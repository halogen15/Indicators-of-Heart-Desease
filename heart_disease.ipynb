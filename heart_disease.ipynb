{
 "cells": [
  {
   "cell_type": "markdown",
   "metadata": {},
   "source": [
    "<h4><center>DATS 6202, Fall 2018</center></h4>\n",
    "<h1><center>Indicators of Heart Disease: A Comparison of Machine Learning Tools</center></h1>\n",
    "<h4><center>Group 11:  Hilary Ligon</center></h4>\n",
    "<h4><center>24 November 2018</center></h4>"
   ]
  },
  {
   "cell_type": "markdown",
   "metadata": {},
   "source": [
    "## Overview\n",
    "- Apply machine learning classification techniques on a dataset of heart disease patients from the 1980s in Switzerland, Hungary, and the United States (Long Beach, CA veterans) (http://archive.ics.uci.edu/ml/machine-learning-databases/heart-disease), described in the codebook here: (http://archive.ics.uci.edu/ml/machine-learning-databases/heart-disease/heart-disease.names)\n",
    "\n",
    "\n",
    "- The major sections of this project are:\n",
    "    - Preprocessing\n",
    "    - Fitting and Analyzing Models\n",
    "        - logistic regression\n",
    "        - multilayer perceptron\n",
    "        - decicion tree\n",
    "        - random forest\n",
    "        - support vector machine\n",
    "    - Ideas for Model Improvement"
   ]
  },
  {
   "cell_type": "markdown",
   "metadata": {},
   "source": [
    "### Data Preprocessing"
   ]
  },
  {
   "cell_type": "code",
   "execution_count": 1,
   "metadata": {},
   "outputs": [
    {
     "name": "stderr",
     "output_type": "stream",
     "text": [
      "C:\\ProgramData\\Anaconda3\\lib\\site-packages\\sklearn\\ensemble\\weight_boosting.py:29: DeprecationWarning: numpy.core.umath_tests is an internal NumPy module and should not be imported. It will be removed in a future NumPy release.\n",
      "  from numpy.core.umath_tests import inner1d\n"
     ]
    }
   ],
   "source": [
    "# Load packages for analysis\n",
    "import pandas as pd\n",
    "import numpy as np\n",
    "\n",
    "from sklearn.preprocessing import StandardScaler\n",
    "from sklearn.preprocessing import LabelEncoder\n",
    "from sklearn.pipeline import Pipeline\n",
    "\n",
    "from sklearn.linear_model import LogisticRegression\n",
    "from sklearn.neural_network import MLPClassifier\n",
    "from sklearn.tree import DecisionTreeClassifier\n",
    "from sklearn.ensemble import RandomForestClassifier\n",
    "from sklearn.svm import SVC\n",
    "\n",
    "from sklearn.model_selection import train_test_split\n",
    "from sklearn.model_selection import GridSearchCV\n",
    "from sklearn.model_selection import StratifiedKFold\n",
    "\n",
    "from sklearn.metrics import accuracy_score\n",
    "from sklearn.metrics import precision_score\n",
    "from sklearn.metrics import recall_score\n",
    "from sklearn.metrics import confusion_matrix\n",
    "\n",
    "import warnings\n",
    "warnings.filterwarnings(\"ignore\")\n",
    "\n",
    "%matplotlib inline\n",
    "import matplotlib.pyplot as plt\n",
    "import seaborn as sns"
   ]
  },
  {
   "cell_type": "code",
   "execution_count": 2,
   "metadata": {},
   "outputs": [],
   "source": [
    "# Features to keep\n",
    "features = ['Age','Sex','BPRest','Chol','FBS','Smoke','Cigs','SmokeYrs','ECGRest','Num']"
   ]
  },
  {
   "cell_type": "markdown",
   "metadata": {},
   "source": [
    "#### Load Data"
   ]
  },
  {
   "cell_type": "markdown",
   "metadata": {},
   "source": [
    "Data are available from the UCI websites listed below.  Data rows wrap onto multiple lines so that each sample inclues multiple new lines.  For that reason, it was simpler to turn the data into comma delimited files manually.  Because the UCI website was not working properly at some times, this file format ensured access to the data as well.\n",
    "\n",
    "Switzerland:  https://archive.ics.uci.edu/ml/machine-learning-databases/heart-disease/switzerland.data\n",
    "\n",
    "Hungary:  https://archive.ics.uci.edu/ml/machine-learning-databases/heart-disease/hungarian.data\n",
    "\n",
    "Long Beach VA:  https://archive.ics.uci.edu/ml/machine-learning-databases/heart-disease/long-beach-va.data"
   ]
  },
  {
   "cell_type": "code",
   "execution_count": 3,
   "metadata": {},
   "outputs": [],
   "source": [
    "# Load data from Switzerland\n",
    "df1 = pd.read_csv('switzerland.csv', header=None)\n",
    "df1.columns = ['id','D1','Age','Sex','PainLoc','PainExer','RelRest','PNCaden','CP','BPRest','HTN','Chol','Smoke','Cigs','SmokeYrs','FBS','FamDiabetes','FamCoronary','ECGRest','Month','Day','Year','Dig','BetaBlock','Nitr','CalcBlock','Diuretic','Protocol','ExerMin','STDep','Mets','MaxHeart','RestHeart','PeakBPS','PeakBPD','D2','RestBPD','Angina','D3','D4','D5','D6','D7','CA','D8','D9','D10','D11','D12','D13','Thal','D14','D15','D16','CathMonth','CathDay','CathYear','Num','LMT','LadProx','LadDist','Diag','CXMain','Ramus','OM1','OM2','RCaProx','RCaDist','D17','D18','D19','D20','D21','D22','D23','D24']\n",
    "# Keep features of interest\n",
    "df1 = df1[features]\n",
    "# Mark null values\n",
    "df1.replace(-9, np.NaN, inplace=True)"
   ]
  },
  {
   "cell_type": "code",
   "execution_count": 4,
   "metadata": {},
   "outputs": [
    {
     "data": {
      "text/html": [
       "<div>\n",
       "<style scoped>\n",
       "    .dataframe tbody tr th:only-of-type {\n",
       "        vertical-align: middle;\n",
       "    }\n",
       "\n",
       "    .dataframe tbody tr th {\n",
       "        vertical-align: top;\n",
       "    }\n",
       "\n",
       "    .dataframe thead th {\n",
       "        text-align: right;\n",
       "    }\n",
       "</style>\n",
       "<table border=\"1\" class=\"dataframe\">\n",
       "  <thead>\n",
       "    <tr style=\"text-align: right;\">\n",
       "      <th></th>\n",
       "      <th>Age</th>\n",
       "      <th>Sex</th>\n",
       "      <th>BPRest</th>\n",
       "      <th>Chol</th>\n",
       "      <th>FBS</th>\n",
       "      <th>Smoke</th>\n",
       "      <th>ECGRest</th>\n",
       "      <th>Num</th>\n",
       "    </tr>\n",
       "  </thead>\n",
       "  <tbody>\n",
       "    <tr>\n",
       "      <th>0</th>\n",
       "      <td>65</td>\n",
       "      <td>1</td>\n",
       "      <td>115.0</td>\n",
       "      <td>0</td>\n",
       "      <td>0.0</td>\n",
       "      <td>NaN</td>\n",
       "      <td>0.0</td>\n",
       "      <td>1</td>\n",
       "    </tr>\n",
       "    <tr>\n",
       "      <th>1</th>\n",
       "      <td>32</td>\n",
       "      <td>1</td>\n",
       "      <td>95.0</td>\n",
       "      <td>0</td>\n",
       "      <td>NaN</td>\n",
       "      <td>1.0</td>\n",
       "      <td>0.0</td>\n",
       "      <td>1</td>\n",
       "    </tr>\n",
       "    <tr>\n",
       "      <th>2</th>\n",
       "      <td>61</td>\n",
       "      <td>1</td>\n",
       "      <td>105.0</td>\n",
       "      <td>0</td>\n",
       "      <td>NaN</td>\n",
       "      <td>NaN</td>\n",
       "      <td>0.0</td>\n",
       "      <td>1</td>\n",
       "    </tr>\n",
       "    <tr>\n",
       "      <th>3</th>\n",
       "      <td>50</td>\n",
       "      <td>1</td>\n",
       "      <td>145.0</td>\n",
       "      <td>0</td>\n",
       "      <td>NaN</td>\n",
       "      <td>NaN</td>\n",
       "      <td>0.0</td>\n",
       "      <td>1</td>\n",
       "    </tr>\n",
       "    <tr>\n",
       "      <th>4</th>\n",
       "      <td>57</td>\n",
       "      <td>1</td>\n",
       "      <td>110.0</td>\n",
       "      <td>0</td>\n",
       "      <td>NaN</td>\n",
       "      <td>NaN</td>\n",
       "      <td>1.0</td>\n",
       "      <td>3</td>\n",
       "    </tr>\n",
       "  </tbody>\n",
       "</table>\n",
       "</div>"
      ],
      "text/plain": [
       "   Age  Sex  BPRest  Chol  FBS  Smoke  ECGRest  Num\n",
       "0   65    1   115.0     0  0.0    NaN      0.0    1\n",
       "1   32    1    95.0     0  NaN    1.0      0.0    1\n",
       "2   61    1   105.0     0  NaN    NaN      0.0    1\n",
       "3   50    1   145.0     0  NaN    NaN      0.0    1\n",
       "4   57    1   110.0     0  NaN    NaN      1.0    3"
      ]
     },
     "execution_count": 4,
     "metadata": {},
     "output_type": "execute_result"
    }
   ],
   "source": [
    "# Drop columns for number of cigarettes and years smoking because lots of the data is null and features are not essential.\n",
    "df1 = df1.drop(columns=['Cigs','SmokeYrs'])\n",
    "df1.head()"
   ]
  },
  {
   "cell_type": "code",
   "execution_count": 5,
   "metadata": {},
   "outputs": [],
   "source": [
    "# Load data from Hungary\n",
    "df2 = pd.read_csv('hungary.csv', header=None)\n",
    "df2.columns = ['id','D1','Age','Sex','PainLoc','PainExer','RelRest','PNCaden','CP','BPRest','HTN','Chol','Smoke','Cigs','SmokeYrs','FBS','FamDiabetes','FamCoronary','ECGRest','Month','Day','Year','Dig','BetaBlock','Nitr','CalcBlock','Diuretic','Protocol','ExerMin','STDep','Mets','MaxHeart','RestHeart','PeakBPS','PeakBPD','D2','RestBPD','Angina','D3','D4','D5','D6','D7','CA','D8','D9','D10','D11','D12','D13','Thal','D14','D15','D16','CathMonth','CathDay','CathYear','Num','LMT','LadProx','LadDist','Diag','CXMain','Ramus','OM1','OM2','RCaProx','RCaDist','D17','D18','D19','D20','D21','D22','D23','D24']\n",
    "# Keep features of interest\n",
    "df2 = df2[features]\n",
    "# Mark null values\n",
    "df2.replace(-9, np.NaN, inplace=True)"
   ]
  },
  {
   "cell_type": "code",
   "execution_count": 6,
   "metadata": {},
   "outputs": [
    {
     "data": {
      "text/html": [
       "<div>\n",
       "<style scoped>\n",
       "    .dataframe tbody tr th:only-of-type {\n",
       "        vertical-align: middle;\n",
       "    }\n",
       "\n",
       "    .dataframe tbody tr th {\n",
       "        vertical-align: top;\n",
       "    }\n",
       "\n",
       "    .dataframe thead th {\n",
       "        text-align: right;\n",
       "    }\n",
       "</style>\n",
       "<table border=\"1\" class=\"dataframe\">\n",
       "  <thead>\n",
       "    <tr style=\"text-align: right;\">\n",
       "      <th></th>\n",
       "      <th>Age</th>\n",
       "      <th>Sex</th>\n",
       "      <th>BPRest</th>\n",
       "      <th>Chol</th>\n",
       "      <th>FBS</th>\n",
       "      <th>Smoke</th>\n",
       "      <th>ECGRest</th>\n",
       "      <th>Num</th>\n",
       "    </tr>\n",
       "  </thead>\n",
       "  <tbody>\n",
       "    <tr>\n",
       "      <th>0</th>\n",
       "      <td>40</td>\n",
       "      <td>1</td>\n",
       "      <td>140.0</td>\n",
       "      <td>289.0</td>\n",
       "      <td>0.0</td>\n",
       "      <td>NaN</td>\n",
       "      <td>0.0</td>\n",
       "      <td>0</td>\n",
       "    </tr>\n",
       "    <tr>\n",
       "      <th>1</th>\n",
       "      <td>49</td>\n",
       "      <td>0</td>\n",
       "      <td>160.0</td>\n",
       "      <td>180.0</td>\n",
       "      <td>0.0</td>\n",
       "      <td>NaN</td>\n",
       "      <td>0.0</td>\n",
       "      <td>1</td>\n",
       "    </tr>\n",
       "    <tr>\n",
       "      <th>2</th>\n",
       "      <td>37</td>\n",
       "      <td>1</td>\n",
       "      <td>130.0</td>\n",
       "      <td>283.0</td>\n",
       "      <td>0.0</td>\n",
       "      <td>NaN</td>\n",
       "      <td>1.0</td>\n",
       "      <td>0</td>\n",
       "    </tr>\n",
       "    <tr>\n",
       "      <th>3</th>\n",
       "      <td>48</td>\n",
       "      <td>0</td>\n",
       "      <td>138.0</td>\n",
       "      <td>214.0</td>\n",
       "      <td>0.0</td>\n",
       "      <td>NaN</td>\n",
       "      <td>0.0</td>\n",
       "      <td>3</td>\n",
       "    </tr>\n",
       "    <tr>\n",
       "      <th>4</th>\n",
       "      <td>54</td>\n",
       "      <td>1</td>\n",
       "      <td>150.0</td>\n",
       "      <td>NaN</td>\n",
       "      <td>0.0</td>\n",
       "      <td>NaN</td>\n",
       "      <td>0.0</td>\n",
       "      <td>0</td>\n",
       "    </tr>\n",
       "  </tbody>\n",
       "</table>\n",
       "</div>"
      ],
      "text/plain": [
       "   Age  Sex  BPRest   Chol  FBS  Smoke  ECGRest  Num\n",
       "0   40    1   140.0  289.0  0.0    NaN      0.0    0\n",
       "1   49    0   160.0  180.0  0.0    NaN      0.0    1\n",
       "2   37    1   130.0  283.0  0.0    NaN      1.0    0\n",
       "3   48    0   138.0  214.0  0.0    NaN      0.0    3\n",
       "4   54    1   150.0    NaN  0.0    NaN      0.0    0"
      ]
     },
     "execution_count": 6,
     "metadata": {},
     "output_type": "execute_result"
    }
   ],
   "source": [
    "# Drop columns for number of cigarettes and years smoking because lots of the data is null and features are not essential.\n",
    "df2 = df2.drop(columns=['Cigs','SmokeYrs'])\n",
    "df2.head()"
   ]
  },
  {
   "cell_type": "code",
   "execution_count": 7,
   "metadata": {},
   "outputs": [],
   "source": [
    "# Load data from Long Beach, CA VA Hospital\n",
    "df3 = pd.read_csv('long beach va.csv', header=None)\n",
    "df3.columns = ['id','D1','Age','Sex','PainLoc','PainExer','RelRest','PNCaden','CP','BPRest','HTN','Chol','Smoke','Cigs','SmokeYrs','FBS','FamDiabetes','FamCoronary','ECGRest','Month','Day','Year','Dig','BetaBlock','Nitr','CalcBlock','Diuretic','Protocol','ExerMin','STDep','Mets','MaxHeart','RestHeart','PeakBPS','PeakBPD','D2','RestBPD','Angina','D3','D4','D5','D6','D7','CA','D8','D9','D10','D11','D12','D13','Thal','D14','D15','D16','CathMonth','CathDay','CathYear','Num','LMT','LadProx','LadDist','Diag','CXMain','Ramus','OM1','OM2','RCaProx','RCaDist','D17','D18','D19','D20','D21','D22','D23','D24']\n",
    "# Keep features of interest\n",
    "df3 = df3[features]\n",
    "# Mark null values\n",
    "df3.replace(-9, np.NaN, inplace=True)"
   ]
  },
  {
   "cell_type": "code",
   "execution_count": 8,
   "metadata": {},
   "outputs": [
    {
     "data": {
      "text/html": [
       "<div>\n",
       "<style scoped>\n",
       "    .dataframe tbody tr th:only-of-type {\n",
       "        vertical-align: middle;\n",
       "    }\n",
       "\n",
       "    .dataframe tbody tr th {\n",
       "        vertical-align: top;\n",
       "    }\n",
       "\n",
       "    .dataframe thead th {\n",
       "        text-align: right;\n",
       "    }\n",
       "</style>\n",
       "<table border=\"1\" class=\"dataframe\">\n",
       "  <thead>\n",
       "    <tr style=\"text-align: right;\">\n",
       "      <th></th>\n",
       "      <th>Age</th>\n",
       "      <th>Sex</th>\n",
       "      <th>BPRest</th>\n",
       "      <th>Chol</th>\n",
       "      <th>FBS</th>\n",
       "      <th>Smoke</th>\n",
       "      <th>ECGRest</th>\n",
       "      <th>Num</th>\n",
       "    </tr>\n",
       "  </thead>\n",
       "  <tbody>\n",
       "    <tr>\n",
       "      <th>0</th>\n",
       "      <td>63</td>\n",
       "      <td>1</td>\n",
       "      <td>140.0</td>\n",
       "      <td>260.0</td>\n",
       "      <td>0.0</td>\n",
       "      <td>0.0</td>\n",
       "      <td>1</td>\n",
       "      <td>2</td>\n",
       "    </tr>\n",
       "    <tr>\n",
       "      <th>1</th>\n",
       "      <td>44</td>\n",
       "      <td>1</td>\n",
       "      <td>130.0</td>\n",
       "      <td>209.0</td>\n",
       "      <td>0.0</td>\n",
       "      <td>0.0</td>\n",
       "      <td>1</td>\n",
       "      <td>0</td>\n",
       "    </tr>\n",
       "    <tr>\n",
       "      <th>2</th>\n",
       "      <td>60</td>\n",
       "      <td>1</td>\n",
       "      <td>132.0</td>\n",
       "      <td>218.0</td>\n",
       "      <td>0.0</td>\n",
       "      <td>1.0</td>\n",
       "      <td>1</td>\n",
       "      <td>2</td>\n",
       "    </tr>\n",
       "    <tr>\n",
       "      <th>3</th>\n",
       "      <td>55</td>\n",
       "      <td>1</td>\n",
       "      <td>142.0</td>\n",
       "      <td>228.0</td>\n",
       "      <td>0.0</td>\n",
       "      <td>1.0</td>\n",
       "      <td>1</td>\n",
       "      <td>1</td>\n",
       "    </tr>\n",
       "    <tr>\n",
       "      <th>4</th>\n",
       "      <td>66</td>\n",
       "      <td>1</td>\n",
       "      <td>110.0</td>\n",
       "      <td>213.0</td>\n",
       "      <td>1.0</td>\n",
       "      <td>0.0</td>\n",
       "      <td>2</td>\n",
       "      <td>0</td>\n",
       "    </tr>\n",
       "  </tbody>\n",
       "</table>\n",
       "</div>"
      ],
      "text/plain": [
       "   Age  Sex  BPRest   Chol  FBS  Smoke  ECGRest  Num\n",
       "0   63    1   140.0  260.0  0.0    0.0        1    2\n",
       "1   44    1   130.0  209.0  0.0    0.0        1    0\n",
       "2   60    1   132.0  218.0  0.0    1.0        1    2\n",
       "3   55    1   142.0  228.0  0.0    1.0        1    1\n",
       "4   66    1   110.0  213.0  1.0    0.0        2    0"
      ]
     },
     "execution_count": 8,
     "metadata": {},
     "output_type": "execute_result"
    }
   ],
   "source": [
    "# Drop columns for number of cigarettes and years smoking because features are not essential or included in other datasets.\n",
    "df3 = df3.drop(columns=['Cigs','SmokeYrs'])\n",
    "df3.head()"
   ]
  },
  {
   "cell_type": "markdown",
   "metadata": {},
   "source": [
    "#### Deal with Missing Data"
   ]
  },
  {
   "cell_type": "markdown",
   "metadata": {},
   "source": [
    "##### What data is missing?"
   ]
  },
  {
   "cell_type": "code",
   "execution_count": 9,
   "metadata": {},
   "outputs": [
    {
     "name": "stdout",
     "output_type": "stream",
     "text": [
      "Switzerland data length is: 123\n",
      " \n",
      "null values:\n",
      "[0, 0, 2, 0, 75, 100, 1, 0]\n"
     ]
    }
   ],
   "source": [
    "print('Switzerland data length is: ' + str(len(df1)))\n",
    "print(' ')\n",
    "print('null values:')\n",
    "print(df1.isnull().sum(axis=0).tolist())"
   ]
  },
  {
   "cell_type": "code",
   "execution_count": 10,
   "metadata": {},
   "outputs": [
    {
     "name": "stdout",
     "output_type": "stream",
     "text": [
      "Hungary data length is: 294\n",
      " \n",
      "null values:\n",
      "[0, 0, 1, 23, 8, 282, 1, 0]\n"
     ]
    }
   ],
   "source": [
    "print('Hungary data length is: ' + str(len(df2)))\n",
    "print(' ')\n",
    "print('null values:')\n",
    "print(df2.isnull().sum(axis=0).tolist())"
   ]
  },
  {
   "cell_type": "code",
   "execution_count": 11,
   "metadata": {},
   "outputs": [
    {
     "name": "stdout",
     "output_type": "stream",
     "text": [
      "United States data length is: 200\n",
      " \n",
      "null values:\n",
      "[0, 0, 56, 7, 7, 5, 0, 0]\n"
     ]
    }
   ],
   "source": [
    "print('United States data length is: ' + str(len(df3)))\n",
    "print(' ')\n",
    "print('null values:')\n",
    "print(df3.isnull().sum(axis=0).tolist())"
   ]
  },
  {
   "cell_type": "markdown",
   "metadata": {},
   "source": [
    "##### Discussion:\n",
    "The features for diabetes (FBS - i.e., fasting blood sugar) and smoker are full of nulls, but they are known risk factors for heart disease, so we do not want to drop them from the analysis.\n",
    "\n",
    "To solve this problem, we are going to impute values.  First, we will impute missing values for the features where there are only a few missing values.  Then, we will use the cleaned up data to run a logistic regression model and predict the values for FBS and Smoke.  If we did not know that FBS and Smoke were important, we would simply drop all the rows with missing data and move on, but we do know better, so let's get started."
   ]
  },
  {
   "cell_type": "markdown",
   "metadata": {},
   "source": [
    "##### Impute missing data when only a few rows are missing"
   ]
  },
  {
   "cell_type": "code",
   "execution_count": 12,
   "metadata": {},
   "outputs": [],
   "source": [
    "# For Switzerland data"
   ]
  },
  {
   "cell_type": "code",
   "execution_count": 13,
   "metadata": {},
   "outputs": [
    {
     "name": "stdout",
     "output_type": "stream",
     "text": [
      "30\n",
      "85\n"
     ]
    }
   ],
   "source": [
    "# Determine mode of ECGRest\n",
    "print((df1['ECGRest'] == 1).sum())\n",
    "print((df1['ECGRest'] == 0).sum())"
   ]
  },
  {
   "cell_type": "code",
   "execution_count": 14,
   "metadata": {},
   "outputs": [],
   "source": [
    "# Impute mean BPRest\n",
    "meanval = df1['BPRest'].mean()\n",
    "df1['BPRest'].fillna(value=meanval, inplace=True)\n",
    "\n",
    "# Impute mode for ECGRest, which is 0\n",
    "df1['ECGRest'].fillna(value=0, inplace=True)"
   ]
  },
  {
   "cell_type": "code",
   "execution_count": 15,
   "metadata": {},
   "outputs": [
    {
     "name": "stdout",
     "output_type": "stream",
     "text": [
      "Switzerland data length is: 123\n",
      " \n",
      "null values:\n",
      "[0, 0, 0, 0, 75, 100, 0, 0]\n"
     ]
    }
   ],
   "source": [
    "print('Switzerland data length is: ' + str(len(df1)))\n",
    "print(' ')\n",
    "print('null values:')\n",
    "print(df1.isnull().sum(axis=0).tolist())"
   ]
  },
  {
   "cell_type": "code",
   "execution_count": 16,
   "metadata": {},
   "outputs": [],
   "source": [
    "# For Hungary data"
   ]
  },
  {
   "cell_type": "code",
   "execution_count": 17,
   "metadata": {},
   "outputs": [
    {
     "name": "stdout",
     "output_type": "stream",
     "text": [
      "52\n",
      "235\n"
     ]
    }
   ],
   "source": [
    "# Determine mode of ECGRest\n",
    "print((df2['ECGRest'] == 1).sum())\n",
    "print((df2['ECGRest'] == 0).sum())"
   ]
  },
  {
   "cell_type": "code",
   "execution_count": 18,
   "metadata": {},
   "outputs": [],
   "source": [
    "# Impute mean BPRest\n",
    "meanval = df2['BPRest'].mean()\n",
    "df2['BPRest'].fillna(value=meanval, inplace=True)\n",
    "\n",
    "# Impute mean Chol\n",
    "meanval = df2['Chol'].mean()\n",
    "df2['Chol'].fillna(value=meanval, inplace=True)\n",
    "\n",
    "# Impute mode for ECGRest, which is 0\n",
    "df2['ECGRest'].fillna(value=0, inplace=True)"
   ]
  },
  {
   "cell_type": "code",
   "execution_count": 19,
   "metadata": {},
   "outputs": [
    {
     "name": "stdout",
     "output_type": "stream",
     "text": [
      "Hungary data length is: 294\n",
      " \n",
      "null values:\n",
      "[0, 0, 0, 0, 8, 282, 0, 0]\n"
     ]
    }
   ],
   "source": [
    "print('Hungary data length is: ' + str(len(df2)))\n",
    "print(' ')\n",
    "print('null values:')\n",
    "print(df2.isnull().sum(axis=0).tolist())"
   ]
  },
  {
   "cell_type": "code",
   "execution_count": 20,
   "metadata": {},
   "outputs": [],
   "source": [
    "# For United States"
   ]
  },
  {
   "cell_type": "code",
   "execution_count": 21,
   "metadata": {},
   "outputs": [],
   "source": [
    "# Impute mean BPRest\n",
    "meanval = df3['BPRest'].mean()\n",
    "df3['BPRest'].fillna(value=meanval, inplace=True)\n",
    "\n",
    "# Impute mean Chol\n",
    "meanval = df3['Chol'].mean()\n",
    "df3['Chol'].fillna(value=meanval, inplace=True)"
   ]
  },
  {
   "cell_type": "code",
   "execution_count": 22,
   "metadata": {},
   "outputs": [
    {
     "name": "stdout",
     "output_type": "stream",
     "text": [
      "United States data length is: 200\n",
      " \n",
      "null values:\n",
      "[0, 0, 0, 0, 7, 5, 0, 0]\n"
     ]
    }
   ],
   "source": [
    "print('United States data length is: ' + str(len(df3)))\n",
    "print(' ')\n",
    "print('null values:')\n",
    "print(df3.isnull().sum(axis=0).tolist())"
   ]
  },
  {
   "cell_type": "markdown",
   "metadata": {},
   "source": [
    "##### Impute missing data for diabetes and smoking"
   ]
  },
  {
   "cell_type": "code",
   "execution_count": 23,
   "metadata": {},
   "outputs": [],
   "source": [
    "# Use the U.S. data that includes information about smoking and diabetes to imput data for rest of dataset"
   ]
  },
  {
   "cell_type": "code",
   "execution_count": 24,
   "metadata": {},
   "outputs": [
    {
     "name": "stdout",
     "output_type": "stream",
     "text": [
      "Number of rows before removing rows with missing values: 200\n",
      "Number of rows after removing rows with missing values: 188\n"
     ]
    }
   ],
   "source": [
    "# Delete rows with missing values because we will not be able to impute these since this is our training set\n",
    "df4=df3\n",
    "print('Number of rows before removing rows with missing values: ' + str(df4.shape[0]))\n",
    "df4.dropna(how='any', inplace=True) #Drop all rows that have a NaN in any variable\n",
    "print('Number of rows after removing rows with missing values: ' + str(df4.shape[0]))"
   ]
  },
  {
   "cell_type": "code",
   "execution_count": 25,
   "metadata": {},
   "outputs": [],
   "source": [
    "# Create features and target for a logistic model on American data where Smoke is the target and then where FBS is the target\n",
    "x1 = df4.drop(columns=['FBS','Smoke','Num'])\n",
    "y11 = df4['Smoke']\n",
    "y12 = df4['FBS']"
   ]
  },
  {
   "cell_type": "code",
   "execution_count": 26,
   "metadata": {},
   "outputs": [],
   "source": [
    "# Create features and target for Hungary data\n",
    "x2 = df2.drop(columns=['FBS','Smoke','Num'])\n",
    "y21 = df2['Smoke']\n",
    "y22 = df2['FBS']"
   ]
  },
  {
   "cell_type": "code",
   "execution_count": 27,
   "metadata": {},
   "outputs": [],
   "source": [
    "# Create features and target for Switzerland data\n",
    "x3 = df1.drop(columns=['FBS','Smoke','Num'])\n",
    "y31 = df1['Smoke']\n",
    "y32 = df1['FBS']"
   ]
  },
  {
   "cell_type": "code",
   "execution_count": 28,
   "metadata": {},
   "outputs": [],
   "source": [
    "# Use U.S. data to determine best logstic model for Smoke"
   ]
  },
  {
   "cell_type": "code",
   "execution_count": 29,
   "metadata": {},
   "outputs": [],
   "source": [
    "# Divide data into training and testing sets\n",
    "# Randomly choose 30% of the data for testing (set random_state as 0 and stratify as y)\n",
    "X_train, X_test, y_train, y_test = train_test_split(x1, y11, test_size=0.3, random_state=0, stratify=y11)"
   ]
  },
  {
   "cell_type": "code",
   "execution_count": 30,
   "metadata": {},
   "outputs": [],
   "source": [
    "# Standardize the features\n",
    "# Declare the StandardScaler\n",
    "std_scaler = StandardScaler()\n",
    "\n",
    "# Standardize the features in the training data\n",
    "X_train = std_scaler.fit_transform(X_train)\n",
    "\n",
    "# Standardize the features in testing data\n",
    "X_test = std_scaler.transform(X_test)"
   ]
  },
  {
   "cell_type": "code",
   "execution_count": 31,
   "metadata": {},
   "outputs": [
    {
     "name": "stdout",
     "output_type": "stream",
     "text": [
      "The list of [score, setting] is:\n",
      "[0.6, [0.001, 'liblinear']]\n",
      "[0.58, [0.0001, 'liblinear']]\n",
      "[0.56, [0.01, 'newton-cg']]\n",
      "[0.56, [0.01, 'lbfgs']]\n",
      "[0.56, [0.01, 'liblinear']]\n",
      "[0.56, [0.01, 'sag']]\n",
      "[0.56, [0.01, 'saga']]\n",
      "[0.49, [0.0001, 'newton-cg']]\n",
      "[0.49, [0.0001, 'lbfgs']]\n",
      "[0.49, [0.0001, 'sag']]\n",
      "[0.49, [0.0001, 'saga']]\n",
      "[0.49, [0.001, 'newton-cg']]\n",
      "[0.49, [0.001, 'lbfgs']]\n",
      "[0.49, [0.001, 'sag']]\n",
      "[0.49, [0.001, 'saga']]\n",
      "[0.49, [0.1, 'newton-cg']]\n",
      "[0.49, [0.1, 'lbfgs']]\n",
      "[0.49, [0.1, 'liblinear']]\n",
      "[0.49, [0.1, 'sag']]\n",
      "[0.49, [0.1, 'saga']]\n",
      "[0.47, [1, 'newton-cg']]\n",
      "[0.47, [1, 'lbfgs']]\n",
      "[0.47, [1, 'liblinear']]\n",
      "[0.47, [1, 'sag']]\n",
      "[0.47, [1, 'saga']]\n",
      "[0.47, [10, 'newton-cg']]\n",
      "[0.47, [10, 'lbfgs']]\n",
      "[0.47, [10, 'liblinear']]\n",
      "[0.47, [10, 'sag']]\n",
      "[0.47, [10, 'saga']]\n",
      "[0.47, [100, 'newton-cg']]\n",
      "[0.47, [100, 'lbfgs']]\n",
      "[0.47, [100, 'liblinear']]\n",
      "[0.47, [100, 'sag']]\n",
      "[0.47, [100, 'saga']]\n",
      "[0.47, [1000, 'newton-cg']]\n",
      "[0.47, [1000, 'lbfgs']]\n",
      "[0.47, [1000, 'liblinear']]\n",
      "[0.47, [1000, 'sag']]\n",
      "[0.47, [1000, 'saga']]\n",
      "[0.47, [10000, 'newton-cg']]\n",
      "[0.47, [10000, 'lbfgs']]\n",
      "[0.47, [10000, 'liblinear']]\n",
      "[0.47, [10000, 'sag']]\n",
      "[0.47, [10000, 'saga']]\n",
      "\n",
      "The best setting is:\n",
      "C: 0.001\n",
      "solver: liblinear\n"
     ]
    }
   ],
   "source": [
    "# The list of value for hyperparameter C (penalty parameter)\n",
    "Cs = [0.0001, 0.001, 0.01, 0.1, 1, 10, 100, 1000, 10000]\n",
    "\n",
    "# The list of choices for hyperparameter solver\n",
    "solvers = ['newton-cg', 'lbfgs', 'liblinear', 'sag', 'saga']\n",
    "\n",
    "# The list of [score, setting]\n",
    "score_settings = []\n",
    "\n",
    "# For each C\n",
    "for C in Cs:\n",
    "    # For each solver\n",
    "    for solver in solvers:\n",
    "        # Declare the classifier with hyperparameter C, solver, and random_state\n",
    "        clf2 = LogisticRegression(C=C, solver=solver, random_state=0)\n",
    "\n",
    "        # Fit the classifier\n",
    "        clf2.fit(X_train, y_train)\n",
    "\n",
    "        # Get the score (rounding to two decimal places)\n",
    "        score = round(clf2.score(X_test, y_test), 2)\n",
    "        \n",
    "        # Get the setting, which is a pair of (C, solver)\n",
    "        setting = [C, solver]\n",
    "\n",
    "        # Append [score, setting] to score_settings\n",
    "        score_settings.append([score, setting])\n",
    "        \n",
    "# Sort score_settings in descending order of score\n",
    "score_settings = sorted(score_settings, key=lambda x: x[0], reverse=True)\n",
    "\n",
    "# Print score_settings\n",
    "print('The list of [score, setting] is:')\n",
    "for score_setting in score_settings:\n",
    "    print(score_setting)\n",
    "print()\n",
    "\n",
    "# Print the best setting\n",
    "print('The best setting is:')\n",
    "print('C: ' + str(score_settings[0][1][0]))\n",
    "print('solver: ' + score_settings[0][1][1])"
   ]
  },
  {
   "cell_type": "code",
   "execution_count": 32,
   "metadata": {},
   "outputs": [],
   "source": [
    "# Now, use this information to declare the classifier for Hungary and Switzerland based on U.S. data for Smoke"
   ]
  },
  {
   "cell_type": "code",
   "execution_count": 33,
   "metadata": {},
   "outputs": [
    {
     "data": {
      "text/plain": [
       "LogisticRegression(C=0.001, class_weight=None, dual=False, fit_intercept=True,\n",
       "          intercept_scaling=1, max_iter=100, multi_class='ovr', n_jobs=1,\n",
       "          penalty='l2', random_state=0, solver='liblinear', tol=0.0001,\n",
       "          verbose=0, warm_start=False)"
      ]
     },
     "execution_count": 33,
     "metadata": {},
     "output_type": "execute_result"
    }
   ],
   "source": [
    "# Declare the classifier for Smoke\n",
    "clf_smoke = LogisticRegression(random_state=0, C=0.001, solver='liblinear')\n",
    "\n",
    "# Fit the classifier\n",
    "clf_smoke.fit(x1, y11)"
   ]
  },
  {
   "cell_type": "code",
   "execution_count": 34,
   "metadata": {},
   "outputs": [
    {
     "data": {
      "text/plain": [
       "array([1., 1., 1., 1., 1., 0., 1., 0., 1., 0., 1., 1., 1., 1., 0., 0., 1.,\n",
       "       1., 0., 1., 0., 1., 0., 1., 1., 1., 0., 0., 0., 0., 0., 0., 0., 1.,\n",
       "       1., 1., 0., 0., 0., 1., 1., 0., 1., 0., 1., 0., 1., 1., 0., 0., 0.,\n",
       "       0., 1., 1., 1., 1., 1., 0., 0., 0., 0., 1., 1., 0., 0., 1., 0., 1.,\n",
       "       1., 0., 0., 1., 0., 0., 0., 1., 0., 1., 1., 1., 0., 0., 0., 1., 1.,\n",
       "       0., 1., 1., 0., 0., 0., 0., 0., 1., 1., 0., 1., 1., 1., 0., 0., 1.,\n",
       "       0., 0., 1., 0., 0., 1., 1., 1., 0., 0., 1., 1., 1., 0., 0., 0., 1.,\n",
       "       1., 1., 0., 0., 0., 0., 0., 1., 0., 0., 1., 1., 0., 0., 1., 0., 0.,\n",
       "       1., 1., 0., 1., 1., 0., 1., 0., 0., 0., 1., 0., 1., 0., 1., 0., 1.,\n",
       "       0., 0., 0., 0., 1., 0., 1., 0., 1., 1., 0., 1., 0., 1., 1., 1., 0.,\n",
       "       1., 1., 1., 0., 1., 0., 1., 1., 0., 1., 1., 0., 0., 0., 0., 1., 1.,\n",
       "       0., 1., 0., 1., 1., 1., 0., 1., 1., 1., 0., 1., 0., 0., 0., 0., 1.,\n",
       "       1., 0., 1., 0., 0., 1., 0., 0., 0., 0., 0., 1., 1., 0., 0., 1., 1.,\n",
       "       1., 1., 0., 1., 0., 1., 0., 1., 0., 1., 1., 1., 0., 0., 0., 1., 0.,\n",
       "       0., 1., 1., 0., 1., 1., 0., 1., 0., 0., 0., 1., 0., 0., 0., 0., 0.,\n",
       "       0., 0., 0., 1., 1., 0., 1., 0., 0., 0., 1., 1., 0., 0., 0., 0., 0.,\n",
       "       1., 1., 0., 1., 1., 1., 1., 1., 0., 0., 1., 0., 0., 0., 0., 0., 0.,\n",
       "       0., 1., 0., 1., 1.])"
      ]
     },
     "execution_count": 34,
     "metadata": {},
     "output_type": "execute_result"
    }
   ],
   "source": [
    "# Predict values for Hungary data\n",
    "y21 = clf_smoke.predict(x2)\n",
    "y21"
   ]
  },
  {
   "cell_type": "code",
   "execution_count": 35,
   "metadata": {},
   "outputs": [
    {
     "data": {
      "text/plain": [
       "array([1., 1., 1., 1., 1., 1., 1., 1., 1., 1., 1., 1., 1., 1., 1., 1., 0.,\n",
       "       1., 1., 1., 1., 0., 1., 1., 1., 1., 1., 1., 0., 1., 1., 1., 1., 1.,\n",
       "       1., 1., 1., 1., 1., 1., 1., 1., 1., 1., 1., 1., 0., 1., 1., 1., 1.,\n",
       "       1., 1., 1., 1., 1., 1., 1., 1., 1., 1., 1., 1., 1., 1., 1., 1., 1.,\n",
       "       1., 1., 1., 1., 1., 1., 1., 1., 1., 1., 1., 1., 1., 1., 1., 1., 1.,\n",
       "       1., 1., 1., 1., 1., 1., 1., 1., 1., 1., 1., 1., 1., 0., 1., 1., 1.,\n",
       "       1., 1., 1., 1., 1., 1., 1., 1., 1., 1., 1., 1., 1., 1., 1., 1., 1.,\n",
       "       1., 1., 1., 1.])"
      ]
     },
     "execution_count": 35,
     "metadata": {},
     "output_type": "execute_result"
    }
   ],
   "source": [
    "# Predict values for Switzerland data\n",
    "y31 = clf_smoke.predict(x3)\n",
    "y31"
   ]
  },
  {
   "cell_type": "code",
   "execution_count": 36,
   "metadata": {},
   "outputs": [],
   "source": [
    "# Use U.S. data to determine best logstic model for FBS"
   ]
  },
  {
   "cell_type": "code",
   "execution_count": 37,
   "metadata": {},
   "outputs": [],
   "source": [
    "# Divide data into training and testing sets\n",
    "# Randomly choose 30% of the data for testing (set random_state as 0 and stratify as y)\n",
    "X_train, X_test, y_train, y_test = train_test_split(x1, y12, test_size=0.3, random_state=0, stratify=y12)\n",
    "\n",
    "# Standardize the features\n",
    "# Declare the StandardScaler\n",
    "std_scaler = StandardScaler()\n",
    "\n",
    "# Standardize the features in the training data\n",
    "X_train = std_scaler.fit_transform(X_train)\n",
    "\n",
    "# Standardize the features in testing data\n",
    "X_test = std_scaler.transform(X_test)"
   ]
  },
  {
   "cell_type": "code",
   "execution_count": 38,
   "metadata": {},
   "outputs": [
    {
     "name": "stdout",
     "output_type": "stream",
     "text": [
      "The list of [score, setting] is:\n",
      "[0.65, [0.0001, 'newton-cg']]\n",
      "[0.65, [0.0001, 'lbfgs']]\n",
      "[0.65, [0.0001, 'sag']]\n",
      "[0.65, [0.0001, 'saga']]\n",
      "[0.65, [0.001, 'newton-cg']]\n",
      "[0.65, [0.001, 'lbfgs']]\n",
      "[0.65, [0.001, 'sag']]\n",
      "[0.65, [0.001, 'saga']]\n",
      "[0.65, [0.01, 'newton-cg']]\n",
      "[0.65, [0.01, 'lbfgs']]\n",
      "[0.65, [0.01, 'sag']]\n",
      "[0.65, [0.01, 'saga']]\n",
      "[0.58, [0.0001, 'liblinear']]\n",
      "[0.58, [0.001, 'liblinear']]\n",
      "[0.56, [0.01, 'liblinear']]\n",
      "[0.56, [0.1, 'newton-cg']]\n",
      "[0.56, [0.1, 'lbfgs']]\n",
      "[0.56, [0.1, 'sag']]\n",
      "[0.56, [0.1, 'saga']]\n",
      "[0.54, [1, 'newton-cg']]\n",
      "[0.54, [1, 'lbfgs']]\n",
      "[0.54, [1, 'sag']]\n",
      "[0.54, [1, 'saga']]\n",
      "[0.53, [0.1, 'liblinear']]\n",
      "[0.53, [1, 'liblinear']]\n",
      "[0.53, [10, 'newton-cg']]\n",
      "[0.53, [10, 'lbfgs']]\n",
      "[0.53, [10, 'liblinear']]\n",
      "[0.53, [10, 'sag']]\n",
      "[0.53, [10, 'saga']]\n",
      "[0.53, [100, 'newton-cg']]\n",
      "[0.53, [100, 'lbfgs']]\n",
      "[0.53, [100, 'liblinear']]\n",
      "[0.53, [100, 'sag']]\n",
      "[0.53, [100, 'saga']]\n",
      "[0.53, [1000, 'newton-cg']]\n",
      "[0.53, [1000, 'lbfgs']]\n",
      "[0.53, [1000, 'liblinear']]\n",
      "[0.53, [1000, 'sag']]\n",
      "[0.53, [1000, 'saga']]\n",
      "[0.53, [10000, 'newton-cg']]\n",
      "[0.53, [10000, 'lbfgs']]\n",
      "[0.53, [10000, 'liblinear']]\n",
      "[0.53, [10000, 'sag']]\n",
      "[0.53, [10000, 'saga']]\n",
      "\n",
      "The best setting is:\n",
      "C: 0.0001\n",
      "solver: newton-cg\n"
     ]
    }
   ],
   "source": [
    "# The list of value for hyperparameter C (penalty parameter)\n",
    "Cs = [0.0001, 0.001, 0.01, 0.1, 1, 10, 100, 1000, 10000]\n",
    "\n",
    "# The list of choices for hyperparameter solver\n",
    "solvers = ['newton-cg', 'lbfgs', 'liblinear', 'sag', 'saga']\n",
    "\n",
    "# The list of [score, setting]\n",
    "score_settings = []\n",
    "\n",
    "# For each C\n",
    "for C in Cs:\n",
    "    # For each solver\n",
    "    for solver in solvers:\n",
    "        # Declare the classifier with hyperparameter C, solver, and random_state\n",
    "        clf3 = LogisticRegression(C=C, solver=solver, random_state=0)\n",
    "\n",
    "        # Fit the classifier\n",
    "        clf3.fit(X_train, y_train)\n",
    "\n",
    "        # Get the score (rounding to two decimal places)\n",
    "        score = round(clf3.score(X_test, y_test), 2)\n",
    "        \n",
    "        # Get the setting, which is a pair of (C, solver)\n",
    "        setting = [C, solver]\n",
    "\n",
    "        # Append [score, setting] to score_settings\n",
    "        score_settings.append([score, setting])\n",
    "        \n",
    "# Sort score_settings in descending order of score\n",
    "score_settings = sorted(score_settings, key=lambda x: x[0], reverse=True)\n",
    "\n",
    "# Print score_settings\n",
    "print('The list of [score, setting] is:')\n",
    "for score_setting in score_settings:\n",
    "    print(score_setting)\n",
    "print()\n",
    "\n",
    "# Print the best setting\n",
    "print('The best setting is:')\n",
    "print('C: ' + str(score_settings[0][1][0]))\n",
    "print('solver: ' + score_settings[0][1][1])"
   ]
  },
  {
   "cell_type": "code",
   "execution_count": 39,
   "metadata": {},
   "outputs": [],
   "source": [
    "# Now, use this information to declare the classifier for Hungary and Switzerland based on U.S. data for FBS"
   ]
  },
  {
   "cell_type": "code",
   "execution_count": 40,
   "metadata": {},
   "outputs": [
    {
     "data": {
      "text/plain": [
       "LogisticRegression(C=0.0001, class_weight=None, dual=False,\n",
       "          fit_intercept=True, intercept_scaling=1, max_iter=100,\n",
       "          multi_class='ovr', n_jobs=1, penalty='l2', random_state=0,\n",
       "          solver='newton-cg', tol=0.0001, verbose=0, warm_start=False)"
      ]
     },
     "execution_count": 40,
     "metadata": {},
     "output_type": "execute_result"
    }
   ],
   "source": [
    "# Declare the classifier for FBS\n",
    "clf_fbs = LogisticRegression(random_state=0, C=0.0001, solver='newton-cg')\n",
    "\n",
    "# Fit the classifier\n",
    "clf_fbs.fit(x1, y12)"
   ]
  },
  {
   "cell_type": "code",
   "execution_count": 41,
   "metadata": {},
   "outputs": [
    {
     "data": {
      "text/plain": [
       "array([0., 0., 0., 0., 0., 0., 0., 0., 0., 0., 0., 0., 0., 0., 0., 0., 0.,\n",
       "       0., 0., 0., 0., 0., 0., 0., 0., 0., 0., 0., 1., 0., 1., 0., 0., 0.,\n",
       "       0., 0., 0., 0., 0., 0., 0., 0., 0., 0., 0., 0., 0., 0., 0., 0., 0.,\n",
       "       0., 0., 0., 0., 0., 0., 0., 1., 0., 0., 0., 0., 0., 0., 0., 0., 0.,\n",
       "       0., 1., 0., 0., 0., 0., 0., 0., 1., 0., 0., 0., 0., 0., 0., 0., 0.,\n",
       "       0., 1., 0., 0., 0., 0., 0., 0., 1., 0., 0., 0., 0., 0., 0., 0., 0.,\n",
       "       1., 1., 0., 0., 0., 0., 0., 1., 0., 0., 0., 0., 0., 0., 0., 0., 0.,\n",
       "       0., 0., 0., 0., 1., 0., 0., 0., 0., 0., 0., 0., 0., 1., 0., 0., 0.,\n",
       "       0., 0., 0., 0., 1., 0., 0., 0., 0., 0., 0., 0., 0., 1., 0., 0., 0.,\n",
       "       0., 0., 1., 0., 0., 0., 0., 0., 0., 0., 0., 0., 0., 0., 0., 0., 0.,\n",
       "       0., 0., 0., 0., 0., 0., 0., 0., 0., 0., 0., 0., 0., 1., 0., 1., 0.,\n",
       "       0., 0., 0., 1., 1., 0., 0., 0., 0., 0., 0., 0., 0., 0., 0., 0., 0.,\n",
       "       0., 0., 0., 0., 0., 0., 0., 0., 0., 0., 0., 0., 0., 0., 0., 0., 0.,\n",
       "       0., 1., 0., 0., 0., 0., 0., 0., 0., 0., 0., 0., 0., 0., 0., 0., 0.,\n",
       "       0., 1., 0., 0., 1., 0., 0., 0., 0., 0., 0., 0., 0., 1., 0., 0., 0.,\n",
       "       0., 0., 0., 0., 0., 0., 0., 0., 0., 0., 0., 1., 0., 0., 0., 0., 0.,\n",
       "       0., 0., 0., 1., 0., 0., 0., 1., 0., 0., 0., 0., 0., 0., 0., 0., 0.,\n",
       "       0., 0., 0., 0., 0.])"
      ]
     },
     "execution_count": 41,
     "metadata": {},
     "output_type": "execute_result"
    }
   ],
   "source": [
    "# Predict values for Hungary data\n",
    "y22 = clf_fbs.predict(x2)\n",
    "y22"
   ]
  },
  {
   "cell_type": "code",
   "execution_count": 42,
   "metadata": {},
   "outputs": [
    {
     "data": {
      "text/plain": [
       "array([0., 0., 0., 0., 0., 0., 0., 0., 0., 0., 0., 0., 0., 0., 0., 0., 0.,\n",
       "       0., 0., 0., 0., 0., 0., 0., 0., 0., 0., 0., 0., 0., 0., 0., 0., 0.,\n",
       "       0., 0., 0., 0., 0., 0., 0., 0., 0., 0., 0., 0., 0., 0., 0., 0., 0.,\n",
       "       0., 0., 0., 0., 0., 0., 0., 0., 0., 0., 0., 0., 0., 0., 0., 0., 0.,\n",
       "       0., 0., 0., 0., 0., 0., 0., 0., 0., 0., 0., 0., 0., 0., 0., 0., 0.,\n",
       "       0., 0., 0., 0., 0., 0., 0., 0., 0., 0., 0., 0., 0., 0., 0., 0., 0.,\n",
       "       0., 0., 0., 0., 0., 0., 0., 0., 0., 0., 0., 0., 0., 0., 0., 0., 0.,\n",
       "       0., 0., 0., 0.])"
      ]
     },
     "execution_count": 42,
     "metadata": {},
     "output_type": "execute_result"
    }
   ],
   "source": [
    "# Predict values for Switzerland data\n",
    "y32 = clf_fbs.predict(x3)\n",
    "y32"
   ]
  },
  {
   "cell_type": "code",
   "execution_count": 43,
   "metadata": {},
   "outputs": [],
   "source": [
    "# Write arrays of imputed values back to the dataframes they belong to\n",
    "df2['Smoke'] = y21\n",
    "df2['FBS'] = y22\n",
    "\n",
    "df1['Smoke'] = y31\n",
    "df1['FBS'] = y32"
   ]
  },
  {
   "cell_type": "code",
   "execution_count": 44,
   "metadata": {},
   "outputs": [
    {
     "name": "stdout",
     "output_type": "stream",
     "text": [
      "Switzerland data length is: 123\n",
      " \n",
      "null values:\n",
      "[0, 0, 0, 0, 0, 0, 0, 0]\n"
     ]
    }
   ],
   "source": [
    "print('Switzerland data length is: ' + str(len(df1)))\n",
    "print(' ')\n",
    "print('null values:')\n",
    "print(df1.isnull().sum(axis=0).tolist())"
   ]
  },
  {
   "cell_type": "code",
   "execution_count": 45,
   "metadata": {},
   "outputs": [
    {
     "name": "stdout",
     "output_type": "stream",
     "text": [
      "Hungary data length is: 294\n",
      " \n",
      "null values:\n",
      "[0, 0, 0, 0, 0, 0, 0, 0]\n"
     ]
    }
   ],
   "source": [
    "print('Hungary data length is: ' + str(len(df2)))\n",
    "print(' ')\n",
    "print('null values:')\n",
    "print(df2.isnull().sum(axis=0).tolist())"
   ]
  },
  {
   "cell_type": "markdown",
   "metadata": {},
   "source": [
    "#### Combine Datasets into One"
   ]
  },
  {
   "cell_type": "code",
   "execution_count": 46,
   "metadata": {},
   "outputs": [],
   "source": [
    "frames = [df1, df2, df3]\n",
    "df = pd.concat(frames)"
   ]
  },
  {
   "cell_type": "code",
   "execution_count": 47,
   "metadata": {},
   "outputs": [
    {
     "name": "stdout",
     "output_type": "stream",
     "text": [
      "Combined data length is: 605\n",
      " \n",
      "null values:\n",
      "[0, 0, 0, 0, 0, 0, 0, 0]\n"
     ]
    }
   ],
   "source": [
    "print('Combined data length is: ' + str(len(df)))\n",
    "print(' ')\n",
    "print('null values:')\n",
    "print(df.isnull().sum(axis=0).tolist())"
   ]
  },
  {
   "cell_type": "code",
   "execution_count": 48,
   "metadata": {},
   "outputs": [
    {
     "data": {
      "text/html": [
       "<div>\n",
       "<style scoped>\n",
       "    .dataframe tbody tr th:only-of-type {\n",
       "        vertical-align: middle;\n",
       "    }\n",
       "\n",
       "    .dataframe tbody tr th {\n",
       "        vertical-align: top;\n",
       "    }\n",
       "\n",
       "    .dataframe thead th {\n",
       "        text-align: right;\n",
       "    }\n",
       "</style>\n",
       "<table border=\"1\" class=\"dataframe\">\n",
       "  <thead>\n",
       "    <tr style=\"text-align: right;\">\n",
       "      <th></th>\n",
       "      <th>Age</th>\n",
       "      <th>Sex</th>\n",
       "      <th>BPRest</th>\n",
       "      <th>Chol</th>\n",
       "      <th>FBS</th>\n",
       "      <th>Smoke</th>\n",
       "      <th>ECGRest</th>\n",
       "      <th>Num</th>\n",
       "    </tr>\n",
       "  </thead>\n",
       "  <tbody>\n",
       "    <tr>\n",
       "      <th>0</th>\n",
       "      <td>65</td>\n",
       "      <td>1</td>\n",
       "      <td>115.0</td>\n",
       "      <td>0.0</td>\n",
       "      <td>0.0</td>\n",
       "      <td>1.0</td>\n",
       "      <td>0.0</td>\n",
       "      <td>1</td>\n",
       "    </tr>\n",
       "    <tr>\n",
       "      <th>1</th>\n",
       "      <td>32</td>\n",
       "      <td>1</td>\n",
       "      <td>95.0</td>\n",
       "      <td>0.0</td>\n",
       "      <td>0.0</td>\n",
       "      <td>1.0</td>\n",
       "      <td>0.0</td>\n",
       "      <td>1</td>\n",
       "    </tr>\n",
       "    <tr>\n",
       "      <th>2</th>\n",
       "      <td>61</td>\n",
       "      <td>1</td>\n",
       "      <td>105.0</td>\n",
       "      <td>0.0</td>\n",
       "      <td>0.0</td>\n",
       "      <td>1.0</td>\n",
       "      <td>0.0</td>\n",
       "      <td>1</td>\n",
       "    </tr>\n",
       "    <tr>\n",
       "      <th>3</th>\n",
       "      <td>50</td>\n",
       "      <td>1</td>\n",
       "      <td>145.0</td>\n",
       "      <td>0.0</td>\n",
       "      <td>0.0</td>\n",
       "      <td>1.0</td>\n",
       "      <td>0.0</td>\n",
       "      <td>1</td>\n",
       "    </tr>\n",
       "    <tr>\n",
       "      <th>4</th>\n",
       "      <td>57</td>\n",
       "      <td>1</td>\n",
       "      <td>110.0</td>\n",
       "      <td>0.0</td>\n",
       "      <td>0.0</td>\n",
       "      <td>1.0</td>\n",
       "      <td>1.0</td>\n",
       "      <td>3</td>\n",
       "    </tr>\n",
       "  </tbody>\n",
       "</table>\n",
       "</div>"
      ],
      "text/plain": [
       "   Age  Sex  BPRest  Chol  FBS  Smoke  ECGRest  Num\n",
       "0   65    1   115.0   0.0  0.0    1.0      0.0    1\n",
       "1   32    1    95.0   0.0  0.0    1.0      0.0    1\n",
       "2   61    1   105.0   0.0  0.0    1.0      0.0    1\n",
       "3   50    1   145.0   0.0  0.0    1.0      0.0    1\n",
       "4   57    1   110.0   0.0  0.0    1.0      1.0    3"
      ]
     },
     "execution_count": 48,
     "metadata": {},
     "output_type": "execute_result"
    }
   ],
   "source": [
    "df.head()"
   ]
  },
  {
   "cell_type": "markdown",
   "metadata": {},
   "source": [
    "#### Fix Data Types & Encoding"
   ]
  },
  {
   "cell_type": "code",
   "execution_count": 49,
   "metadata": {},
   "outputs": [],
   "source": [
    "# Correcting data type for some columns\n",
    "df['FBS'] = df['FBS'].astype({'FBS': int})\n",
    "df['Smoke'] = df['Smoke'].astype({'Smoke': int})"
   ]
  },
  {
   "cell_type": "code",
   "execution_count": 50,
   "metadata": {},
   "outputs": [],
   "source": [
    "# Encode all abnormal ECGs together\n",
    "df['ECGRest'].replace({0.0: 0, 1.0: 1, 2.0: 1}, inplace=True)\n",
    "df['ECGRest'] = df['ECGRest'].astype({'ECGRest': int})"
   ]
  },
  {
   "cell_type": "code",
   "execution_count": 51,
   "metadata": {},
   "outputs": [],
   "source": [
    "# Make the Num feature binary for heart disease (no, yes)\n",
    "df['Num'].replace({0.0:'Healthy',1.0:'Disease',2.0:'Disease',3.0:'Disease',4.0:'Disease'}, inplace=True)"
   ]
  },
  {
   "cell_type": "code",
   "execution_count": 52,
   "metadata": {},
   "outputs": [
    {
     "data": {
      "text/html": [
       "<div>\n",
       "<style scoped>\n",
       "    .dataframe tbody tr th:only-of-type {\n",
       "        vertical-align: middle;\n",
       "    }\n",
       "\n",
       "    .dataframe tbody tr th {\n",
       "        vertical-align: top;\n",
       "    }\n",
       "\n",
       "    .dataframe thead th {\n",
       "        text-align: right;\n",
       "    }\n",
       "</style>\n",
       "<table border=\"1\" class=\"dataframe\">\n",
       "  <thead>\n",
       "    <tr style=\"text-align: right;\">\n",
       "      <th></th>\n",
       "      <th>Age</th>\n",
       "      <th>Male</th>\n",
       "      <th>BPRest</th>\n",
       "      <th>Chol</th>\n",
       "      <th>Diabetes</th>\n",
       "      <th>Smoker</th>\n",
       "      <th>ECG_Abnormal</th>\n",
       "      <th>Num</th>\n",
       "    </tr>\n",
       "  </thead>\n",
       "  <tbody>\n",
       "    <tr>\n",
       "      <th>0</th>\n",
       "      <td>65</td>\n",
       "      <td>1</td>\n",
       "      <td>115.0</td>\n",
       "      <td>0.0</td>\n",
       "      <td>0</td>\n",
       "      <td>1</td>\n",
       "      <td>0</td>\n",
       "      <td>Disease</td>\n",
       "    </tr>\n",
       "    <tr>\n",
       "      <th>1</th>\n",
       "      <td>32</td>\n",
       "      <td>1</td>\n",
       "      <td>95.0</td>\n",
       "      <td>0.0</td>\n",
       "      <td>0</td>\n",
       "      <td>1</td>\n",
       "      <td>0</td>\n",
       "      <td>Disease</td>\n",
       "    </tr>\n",
       "    <tr>\n",
       "      <th>2</th>\n",
       "      <td>61</td>\n",
       "      <td>1</td>\n",
       "      <td>105.0</td>\n",
       "      <td>0.0</td>\n",
       "      <td>0</td>\n",
       "      <td>1</td>\n",
       "      <td>0</td>\n",
       "      <td>Disease</td>\n",
       "    </tr>\n",
       "    <tr>\n",
       "      <th>3</th>\n",
       "      <td>50</td>\n",
       "      <td>1</td>\n",
       "      <td>145.0</td>\n",
       "      <td>0.0</td>\n",
       "      <td>0</td>\n",
       "      <td>1</td>\n",
       "      <td>0</td>\n",
       "      <td>Disease</td>\n",
       "    </tr>\n",
       "    <tr>\n",
       "      <th>4</th>\n",
       "      <td>57</td>\n",
       "      <td>1</td>\n",
       "      <td>110.0</td>\n",
       "      <td>0.0</td>\n",
       "      <td>0</td>\n",
       "      <td>1</td>\n",
       "      <td>1</td>\n",
       "      <td>Disease</td>\n",
       "    </tr>\n",
       "  </tbody>\n",
       "</table>\n",
       "</div>"
      ],
      "text/plain": [
       "   Age  Male  BPRest  Chol  Diabetes  Smoker  ECG_Abnormal      Num\n",
       "0   65     1   115.0   0.0         0       1             0  Disease\n",
       "1   32     1    95.0   0.0         0       1             0  Disease\n",
       "2   61     1   105.0   0.0         0       1             0  Disease\n",
       "3   50     1   145.0   0.0         0       1             0  Disease\n",
       "4   57     1   110.0   0.0         0       1             1  Disease"
      ]
     },
     "execution_count": 52,
     "metadata": {},
     "output_type": "execute_result"
    }
   ],
   "source": [
    "# Rename a few columns\n",
    "df.columns = ['Age','Male','BPRest','Chol','Diabetes','Smoker','ECG_Abnormal','Num']\n",
    "df.head()"
   ]
  },
  {
   "cell_type": "code",
   "execution_count": 53,
   "metadata": {},
   "outputs": [],
   "source": [
    "# Create the feature vector and target vector\n",
    "# No need for one-hot-encoding\n",
    "X = df.drop('Num', axis=1)\n",
    "\n",
    "y = df['Num']"
   ]
  },
  {
   "cell_type": "code",
   "execution_count": 54,
   "metadata": {},
   "outputs": [],
   "source": [
    "# Encode the target\n",
    "le = LabelEncoder()\n",
    "y = le.fit_transform(y)"
   ]
  },
  {
   "cell_type": "code",
   "execution_count": 55,
   "metadata": {},
   "outputs": [
    {
     "name": "stdout",
     "output_type": "stream",
     "text": [
      "[359, 246]\n"
     ]
    }
   ],
   "source": [
    "# Look at Y values\n",
    "print([np.where(y == 0)[0].shape[0], np.where(y == 1)[0].shape[0]])\n",
    "\n",
    "# There is a fairly even split between the two values, so we don't need to worry about y being skewed."
   ]
  },
  {
   "cell_type": "code",
   "execution_count": 56,
   "metadata": {},
   "outputs": [
    {
     "data": {
      "text/html": [
       "<div>\n",
       "<style scoped>\n",
       "    .dataframe tbody tr th:only-of-type {\n",
       "        vertical-align: middle;\n",
       "    }\n",
       "\n",
       "    .dataframe tbody tr th {\n",
       "        vertical-align: top;\n",
       "    }\n",
       "\n",
       "    .dataframe thead th {\n",
       "        text-align: right;\n",
       "    }\n",
       "</style>\n",
       "<table border=\"1\" class=\"dataframe\">\n",
       "  <thead>\n",
       "    <tr style=\"text-align: right;\">\n",
       "      <th></th>\n",
       "      <th>Age</th>\n",
       "      <th>Male</th>\n",
       "      <th>BPRest</th>\n",
       "      <th>Chol</th>\n",
       "      <th>Diabetes</th>\n",
       "      <th>Smoker</th>\n",
       "      <th>ECG_Abnormal</th>\n",
       "      <th>Num</th>\n",
       "    </tr>\n",
       "  </thead>\n",
       "  <tbody>\n",
       "    <tr>\n",
       "      <th>0</th>\n",
       "      <td>65</td>\n",
       "      <td>1</td>\n",
       "      <td>115.0</td>\n",
       "      <td>0.0</td>\n",
       "      <td>0</td>\n",
       "      <td>1</td>\n",
       "      <td>0</td>\n",
       "      <td>0</td>\n",
       "    </tr>\n",
       "  </tbody>\n",
       "</table>\n",
       "</div>"
      ],
      "text/plain": [
       "   Age  Male  BPRest  Chol  Diabetes  Smoker  ECG_Abnormal  Num\n",
       "0   65     1   115.0   0.0         0       1             0    0"
      ]
     },
     "execution_count": 56,
     "metadata": {},
     "output_type": "execute_result"
    }
   ],
   "source": [
    "# Create a complete dataset for plots\n",
    "dfC = X\n",
    "dfC['Num'] = y\n",
    "dfC.head(1)"
   ]
  },
  {
   "cell_type": "code",
   "execution_count": 57,
   "metadata": {},
   "outputs": [
    {
     "data": {
      "text/html": [
       "<div>\n",
       "<style scoped>\n",
       "    .dataframe tbody tr th:only-of-type {\n",
       "        vertical-align: middle;\n",
       "    }\n",
       "\n",
       "    .dataframe tbody tr th {\n",
       "        vertical-align: top;\n",
       "    }\n",
       "\n",
       "    .dataframe thead th {\n",
       "        text-align: right;\n",
       "    }\n",
       "</style>\n",
       "<table border=\"1\" class=\"dataframe\">\n",
       "  <thead>\n",
       "    <tr style=\"text-align: right;\">\n",
       "      <th></th>\n",
       "      <th>Age</th>\n",
       "      <th>Male</th>\n",
       "      <th>BPRest</th>\n",
       "      <th>Chol</th>\n",
       "      <th>Diabetes</th>\n",
       "      <th>Smoker</th>\n",
       "      <th>ECG_Abnormal</th>\n",
       "    </tr>\n",
       "  </thead>\n",
       "  <tbody>\n",
       "    <tr>\n",
       "      <th>0</th>\n",
       "      <td>65</td>\n",
       "      <td>1</td>\n",
       "      <td>115.0</td>\n",
       "      <td>0.0</td>\n",
       "      <td>0</td>\n",
       "      <td>1</td>\n",
       "      <td>0</td>\n",
       "    </tr>\n",
       "  </tbody>\n",
       "</table>\n",
       "</div>"
      ],
      "text/plain": [
       "   Age  Male  BPRest  Chol  Diabetes  Smoker  ECG_Abnormal\n",
       "0   65     1   115.0   0.0         0       1             0"
      ]
     },
     "execution_count": 57,
     "metadata": {},
     "output_type": "execute_result"
    }
   ],
   "source": [
    "# Not sure why Num gets added to X when making dfC, but dropping Num from Xagain\n",
    "X = df.drop('Num', axis=1)\n",
    "X.head(1)"
   ]
  },
  {
   "cell_type": "markdown",
   "metadata": {},
   "source": [
    "#### Plots to Identify Problems"
   ]
  },
  {
   "cell_type": "code",
   "execution_count": 58,
   "metadata": {},
   "outputs": [
    {
     "data": {
      "text/html": [
       "<div>\n",
       "<style scoped>\n",
       "    .dataframe tbody tr th:only-of-type {\n",
       "        vertical-align: middle;\n",
       "    }\n",
       "\n",
       "    .dataframe tbody tr th {\n",
       "        vertical-align: top;\n",
       "    }\n",
       "\n",
       "    .dataframe thead th {\n",
       "        text-align: right;\n",
       "    }\n",
       "</style>\n",
       "<table border=\"1\" class=\"dataframe\">\n",
       "  <thead>\n",
       "    <tr style=\"text-align: right;\">\n",
       "      <th></th>\n",
       "      <th>Age</th>\n",
       "      <th>Male</th>\n",
       "      <th>BPRest</th>\n",
       "      <th>Chol</th>\n",
       "      <th>Diabetes</th>\n",
       "      <th>Smoker</th>\n",
       "      <th>ECG_Abnormal</th>\n",
       "      <th>Num</th>\n",
       "    </tr>\n",
       "  </thead>\n",
       "  <tbody>\n",
       "    <tr>\n",
       "      <th>0</th>\n",
       "      <td>65</td>\n",
       "      <td>1</td>\n",
       "      <td>115.0</td>\n",
       "      <td>0.0</td>\n",
       "      <td>0</td>\n",
       "      <td>1</td>\n",
       "      <td>0</td>\n",
       "      <td>0</td>\n",
       "    </tr>\n",
       "  </tbody>\n",
       "</table>\n",
       "</div>"
      ],
      "text/plain": [
       "   Age  Male  BPRest  Chol  Diabetes  Smoker  ECG_Abnormal  Num\n",
       "0   65     1   115.0   0.0         0       1             0    0"
      ]
     },
     "execution_count": 58,
     "metadata": {},
     "output_type": "execute_result"
    }
   ],
   "source": [
    "dfC.head(1)"
   ]
  },
  {
   "cell_type": "code",
   "execution_count": 59,
   "metadata": {},
   "outputs": [
    {
     "data": {
      "text/plain": [
       "<matplotlib.axes._subplots.AxesSubplot at 0x29d89d94cf8>"
      ]
     },
     "execution_count": 59,
     "metadata": {},
     "output_type": "execute_result"
    },
    {
     "data": {
      "image/png": "[encoded data removed]",
      "text/plain": [
       "<Figure size 432x288 with 1 Axes>"
      ]
     },
     "metadata": {
      "needs_background": "light"
     },
     "output_type": "display_data"
    }
   ],
   "source": [
    "# Plot data - This plot assures us that there are Num values of 0 and 1 for each feature in X\n",
    "# Manually substituted each X feature\n",
    "sns.regplot(x=dfC['ECG_Abnormal'], y=dfC['Num'], data=dfC, fit_reg=False)"
   ]
  },
  {
   "cell_type": "markdown",
   "metadata": {},
   "source": [
    "### Fitting Models Individually\n",
    "Running a GridSearch resulted in code that runs endlessly, so first I fit the models separately and determine where the problems are.  Then below I can run a GridSearch without the parameters that cause problems."
   ]
  },
  {
   "cell_type": "code",
   "execution_count": 60,
   "metadata": {},
   "outputs": [],
   "source": [
    "# Divide data into training and testing sets\n",
    "# Randomly choose 30% of the data for testing (set random_state as 0 and stratify as y)\n",
    "X_train, X_test, y_train, y_test = train_test_split(X, y, test_size=0.3, random_state=0, stratify=y)"
   ]
  },
  {
   "cell_type": "code",
   "execution_count": 61,
   "metadata": {},
   "outputs": [],
   "source": [
    "# Standardize the features\n",
    "# Declare the StandardScaler\n",
    "std_scaler = StandardScaler()\n",
    "\n",
    "# Standardize the features in the training data\n",
    "X_train = std_scaler.fit_transform(X_train)\n",
    "\n",
    "# Standardize the features in testing data\n",
    "X_test = std_scaler.transform(X_test)"
   ]
  },
  {
   "cell_type": "markdown",
   "metadata": {},
   "source": [
    "#### Support Vector Machine"
   ]
  },
  {
   "cell_type": "code",
   "execution_count": 62,
   "metadata": {},
   "outputs": [
    {
     "name": "stderr",
     "output_type": "stream",
     "text": [
      "C:\\ProgramData\\Anaconda3\\lib\\site-packages\\sklearn\\svm\\base.py:218: ConvergenceWarning: Solver terminated early (max_iter=100).  Consider pre-processing your data with StandardScaler or MinMaxScaler.\n",
      "  % self.max_iter, ConvergenceWarning)\n",
      "C:\\ProgramData\\Anaconda3\\lib\\site-packages\\sklearn\\svm\\base.py:218: ConvergenceWarning: Solver terminated early (max_iter=100).  Consider pre-processing your data with StandardScaler or MinMaxScaler.\n",
      "  % self.max_iter, ConvergenceWarning)\n",
      "C:\\ProgramData\\Anaconda3\\lib\\site-packages\\sklearn\\svm\\base.py:218: ConvergenceWarning: Solver terminated early (max_iter=100).  Consider pre-processing your data with StandardScaler or MinMaxScaler.\n",
      "  % self.max_iter, ConvergenceWarning)\n",
      "C:\\ProgramData\\Anaconda3\\lib\\site-packages\\sklearn\\svm\\base.py:218: ConvergenceWarning: Solver terminated early (max_iter=100).  Consider pre-processing your data with StandardScaler or MinMaxScaler.\n",
      "  % self.max_iter, ConvergenceWarning)\n",
      "C:\\ProgramData\\Anaconda3\\lib\\site-packages\\sklearn\\svm\\base.py:218: ConvergenceWarning: Solver terminated early (max_iter=100).  Consider pre-processing your data with StandardScaler or MinMaxScaler.\n",
      "  % self.max_iter, ConvergenceWarning)\n",
      "C:\\ProgramData\\Anaconda3\\lib\\site-packages\\sklearn\\svm\\base.py:218: ConvergenceWarning: Solver terminated early (max_iter=100).  Consider pre-processing your data with StandardScaler or MinMaxScaler.\n",
      "  % self.max_iter, ConvergenceWarning)\n",
      "C:\\ProgramData\\Anaconda3\\lib\\site-packages\\sklearn\\svm\\base.py:218: ConvergenceWarning: Solver terminated early (max_iter=100).  Consider pre-processing your data with StandardScaler or MinMaxScaler.\n",
      "  % self.max_iter, ConvergenceWarning)\n",
      "C:\\ProgramData\\Anaconda3\\lib\\site-packages\\sklearn\\svm\\base.py:218: ConvergenceWarning: Solver terminated early (max_iter=100).  Consider pre-processing your data with StandardScaler or MinMaxScaler.\n",
      "  % self.max_iter, ConvergenceWarning)\n",
      "C:\\ProgramData\\Anaconda3\\lib\\site-packages\\sklearn\\svm\\base.py:218: ConvergenceWarning: Solver terminated early (max_iter=100).  Consider pre-processing your data with StandardScaler or MinMaxScaler.\n",
      "  % self.max_iter, ConvergenceWarning)\n",
      "C:\\ProgramData\\Anaconda3\\lib\\site-packages\\sklearn\\svm\\base.py:218: ConvergenceWarning: Solver terminated early (max_iter=100).  Consider pre-processing your data with StandardScaler or MinMaxScaler.\n",
      "  % self.max_iter, ConvergenceWarning)\n",
      "C:\\ProgramData\\Anaconda3\\lib\\site-packages\\sklearn\\svm\\base.py:218: ConvergenceWarning: Solver terminated early (max_iter=100).  Consider pre-processing your data with StandardScaler or MinMaxScaler.\n",
      "  % self.max_iter, ConvergenceWarning)\n",
      "C:\\ProgramData\\Anaconda3\\lib\\site-packages\\sklearn\\svm\\base.py:218: ConvergenceWarning: Solver terminated early (max_iter=100).  Consider pre-processing your data with StandardScaler or MinMaxScaler.\n",
      "  % self.max_iter, ConvergenceWarning)\n",
      "C:\\ProgramData\\Anaconda3\\lib\\site-packages\\sklearn\\svm\\base.py:218: ConvergenceWarning: Solver terminated early (max_iter=100).  Consider pre-processing your data with StandardScaler or MinMaxScaler.\n",
      "  % self.max_iter, ConvergenceWarning)\n",
      "C:\\ProgramData\\Anaconda3\\lib\\site-packages\\sklearn\\svm\\base.py:218: ConvergenceWarning: Solver terminated early (max_iter=100).  Consider pre-processing your data with StandardScaler or MinMaxScaler.\n",
      "  % self.max_iter, ConvergenceWarning)\n",
      "C:\\ProgramData\\Anaconda3\\lib\\site-packages\\sklearn\\svm\\base.py:218: ConvergenceWarning: Solver terminated early (max_iter=100).  Consider pre-processing your data with StandardScaler or MinMaxScaler.\n",
      "  % self.max_iter, ConvergenceWarning)\n",
      "C:\\ProgramData\\Anaconda3\\lib\\site-packages\\sklearn\\svm\\base.py:218: ConvergenceWarning: Solver terminated early (max_iter=100).  Consider pre-processing your data with StandardScaler or MinMaxScaler.\n",
      "  % self.max_iter, ConvergenceWarning)\n",
      "C:\\ProgramData\\Anaconda3\\lib\\site-packages\\sklearn\\svm\\base.py:218: ConvergenceWarning: Solver terminated early (max_iter=100).  Consider pre-processing your data with StandardScaler or MinMaxScaler.\n",
      "  % self.max_iter, ConvergenceWarning)\n",
      "C:\\ProgramData\\Anaconda3\\lib\\site-packages\\sklearn\\svm\\base.py:218: ConvergenceWarning: Solver terminated early (max_iter=100).  Consider pre-processing your data with StandardScaler or MinMaxScaler.\n",
      "  % self.max_iter, ConvergenceWarning)\n",
      "C:\\ProgramData\\Anaconda3\\lib\\site-packages\\sklearn\\svm\\base.py:218: ConvergenceWarning: Solver terminated early (max_iter=100).  Consider pre-processing your data with StandardScaler or MinMaxScaler.\n",
      "  % self.max_iter, ConvergenceWarning)\n"
     ]
    },
    {
     "name": "stdout",
     "output_type": "stream",
     "text": [
      "The list of [score, setting] is:\n",
      "[0.73, [0.1, 'rbf', 0.1]]\n",
      "[0.67, [0.1, 'rbf', 1]]\n",
      "[0.66, [0.0001, 'rbf', 1]]\n",
      "[0.66, [0.001, 'rbf', 1]]\n",
      "[0.66, [1, 'rbf', 1]]\n",
      "[0.65, [0.0001, 'rbf', 10]]\n",
      "[0.64, [0.01, 'rbf', 100]]\n",
      "[0.64, [1, 'rbf', 0.01]]\n",
      "[0.63, [0.001, 'rbf', 100]]\n",
      "[0.63, [0.1, 'rbf', 100]]\n",
      "[0.63, [1, 'rbf', 100]]\n",
      "[0.63, [10, 'rbf', 1]]\n",
      "[0.63, [10, 'rbf', 10]]\n",
      "[0.62, [0.0001, 'rbf', 100]]\n",
      "[0.62, [0.1, 'rbf', 10]]\n",
      "[0.62, [1, 'rbf', 10]]\n",
      "[0.61, [0.0001, 'rbf', 0.1]]\n",
      "[0.61, [0.001, 'rbf', 0.1]]\n",
      "[0.61, [0.001, 'rbf', 10]]\n",
      "[0.61, [0.01, 'rbf', 0.1]]\n",
      "[0.6, [0.01, 'rbf', 10]]\n",
      "[0.6, [1, 'rbf', 0.1]]\n",
      "[0.54, [0.01, 'rbf', 1]]\n",
      "[0.51, [0.0001, 'rbf', 0.01]]\n",
      "[0.51, [0.001, 'rbf', 0.01]]\n",
      "[0.51, [0.01, 'rbf', 0.01]]\n",
      "[0.51, [0.1, 'rbf', 0.01]]\n",
      "[0.51, [10, 'rbf', 0.1]]\n",
      "[0.44, [10, 'rbf', 100]]\n",
      "[0.4, [10, 'rbf', 0.01]]\n",
      "\n",
      "The best setting is:\n",
      "C: 0.1\n",
      "kernel: rbf\n",
      "gamma: 0.1\n"
     ]
    },
    {
     "name": "stderr",
     "output_type": "stream",
     "text": [
      "C:\\ProgramData\\Anaconda3\\lib\\site-packages\\sklearn\\svm\\base.py:218: ConvergenceWarning: Solver terminated early (max_iter=100).  Consider pre-processing your data with StandardScaler or MinMaxScaler.\n",
      "  % self.max_iter, ConvergenceWarning)\n",
      "C:\\ProgramData\\Anaconda3\\lib\\site-packages\\sklearn\\svm\\base.py:218: ConvergenceWarning: Solver terminated early (max_iter=100).  Consider pre-processing your data with StandardScaler or MinMaxScaler.\n",
      "  % self.max_iter, ConvergenceWarning)\n",
      "C:\\ProgramData\\Anaconda3\\lib\\site-packages\\sklearn\\svm\\base.py:218: ConvergenceWarning: Solver terminated early (max_iter=100).  Consider pre-processing your data with StandardScaler or MinMaxScaler.\n",
      "  % self.max_iter, ConvergenceWarning)\n",
      "C:\\ProgramData\\Anaconda3\\lib\\site-packages\\sklearn\\svm\\base.py:218: ConvergenceWarning: Solver terminated early (max_iter=100).  Consider pre-processing your data with StandardScaler or MinMaxScaler.\n",
      "  % self.max_iter, ConvergenceWarning)\n",
      "C:\\ProgramData\\Anaconda3\\lib\\site-packages\\sklearn\\svm\\base.py:218: ConvergenceWarning: Solver terminated early (max_iter=100).  Consider pre-processing your data with StandardScaler or MinMaxScaler.\n",
      "  % self.max_iter, ConvergenceWarning)\n",
      "C:\\ProgramData\\Anaconda3\\lib\\site-packages\\sklearn\\svm\\base.py:218: ConvergenceWarning: Solver terminated early (max_iter=100).  Consider pre-processing your data with StandardScaler or MinMaxScaler.\n",
      "  % self.max_iter, ConvergenceWarning)\n",
      "C:\\ProgramData\\Anaconda3\\lib\\site-packages\\sklearn\\svm\\base.py:218: ConvergenceWarning: Solver terminated early (max_iter=100).  Consider pre-processing your data with StandardScaler or MinMaxScaler.\n",
      "  % self.max_iter, ConvergenceWarning)\n",
      "C:\\ProgramData\\Anaconda3\\lib\\site-packages\\sklearn\\svm\\base.py:218: ConvergenceWarning: Solver terminated early (max_iter=100).  Consider pre-processing your data with StandardScaler or MinMaxScaler.\n",
      "  % self.max_iter, ConvergenceWarning)\n",
      "C:\\ProgramData\\Anaconda3\\lib\\site-packages\\sklearn\\svm\\base.py:218: ConvergenceWarning: Solver terminated early (max_iter=100).  Consider pre-processing your data with StandardScaler or MinMaxScaler.\n",
      "  % self.max_iter, ConvergenceWarning)\n",
      "C:\\ProgramData\\Anaconda3\\lib\\site-packages\\sklearn\\svm\\base.py:218: ConvergenceWarning: Solver terminated early (max_iter=100).  Consider pre-processing your data with StandardScaler or MinMaxScaler.\n",
      "  % self.max_iter, ConvergenceWarning)\n",
      "C:\\ProgramData\\Anaconda3\\lib\\site-packages\\sklearn\\svm\\base.py:218: ConvergenceWarning: Solver terminated early (max_iter=100).  Consider pre-processing your data with StandardScaler or MinMaxScaler.\n",
      "  % self.max_iter, ConvergenceWarning)\n"
     ]
    }
   ],
   "source": [
    "# The list of value for hyperparameter C (penalty parameter)\n",
    "Cs = [0.0001, 0.001, 0.01, 0.1, 1, 10]\n",
    "\n",
    "# The list of choices for hyperparameter kernel\n",
    "#kernels = ['linear', 'poly', 'rbf', 'sigmoid']\n",
    "kernels = ['rbf']\n",
    "# Only rbf produces any output, and I still get warnings about convergence.  \n",
    "# SVM is the primary reason the GridSearch got stuck.\n",
    "\n",
    "# The list of choices for hyperparameter gamma\n",
    "gammas = [0.01, 0.1, 1, 10, 100]\n",
    "\n",
    "# The list of [score, setting], where score is the score of the classifier and setting a pair of (C, kernel)\n",
    "score_settings = []\n",
    "\n",
    "# For each C\n",
    "for C in Cs:\n",
    "    # For each kernel\n",
    "    for kernel in kernels:\n",
    "        # For each gamma\n",
    "        for gamma in gammas:\n",
    "            # Declare the classifier with hyperparameter C, kernel, gamma, random_state, and max iterations\n",
    "            clf1 = SVC(C=C, kernel=kernel, gamma=gamma, random_state=0, max_iter=100)\n",
    "\n",
    "            # Fit the classifier\n",
    "            clf1.fit(X_train, y_train)\n",
    "\n",
    "            # Get the score (rounding to two decimal places)\n",
    "            score = round(clf1.score(X_test, y_test), 2)\n",
    "        \n",
    "            # Get the setting, which is (C, kernel, gamma)\n",
    "            setting = [C, kernel, gamma]\n",
    "\n",
    "            # Append [score, setting] to score_settings\n",
    "            score_settings.append([score, setting])\n",
    "        \n",
    "# Sort score_settings in descending order of score\n",
    "score_settings = sorted(score_settings, key=lambda x: x[0], reverse=True)\n",
    "\n",
    "# Print score_settings\n",
    "print('The list of [score, setting] is:')\n",
    "for score_setting in score_settings:\n",
    "    print(score_setting)\n",
    "print()\n",
    "\n",
    "# Print the best setting\n",
    "print('The best setting is:')\n",
    "print('C: ' + str(score_settings[0][1][0]))\n",
    "print('kernel: ' + score_settings[0][1][1])\n",
    "print('gamma: ' + str(score_settings[0][1][2]))"
   ]
  },
  {
   "cell_type": "code",
   "execution_count": 63,
   "metadata": {},
   "outputs": [
    {
     "name": "stderr",
     "output_type": "stream",
     "text": [
      "C:\\ProgramData\\Anaconda3\\lib\\site-packages\\sklearn\\svm\\base.py:218: ConvergenceWarning: Solver terminated early (max_iter=100).  Consider pre-processing your data with StandardScaler or MinMaxScaler.\n",
      "  % self.max_iter, ConvergenceWarning)\n"
     ]
    },
    {
     "data": {
      "text/plain": [
       "array([[74, 34],\n",
       "       [15, 59]], dtype=int64)"
      ]
     },
     "execution_count": 63,
     "metadata": {},
     "output_type": "execute_result"
    }
   ],
   "source": [
    "# Produce confusion matrix for highest ranked model\n",
    "clf1 = SVC(C=0.1, kernel='rbf', gamma=0.1, random_state=0, max_iter=100)\n",
    "clf1.fit(X_train, y_train)\n",
    "y_pred = clf1.predict(X_test)\n",
    "\n",
    "confusion_matrix(y_test, y_pred)"
   ]
  },
  {
   "cell_type": "code",
   "execution_count": 64,
   "metadata": {},
   "outputs": [
    {
     "name": "stdout",
     "output_type": "stream",
     "text": [
      "0.6344086021505376\n",
      "0.7972972972972973\n"
     ]
    }
   ],
   "source": [
    "# Precision - Does the model label positive as positive and negative as negative?\n",
    "precision = precision_score(y_test, y_pred)\n",
    "print(precision)\n",
    "\n",
    "# Recall - Does the model find all positive samples?\n",
    "recall = recall_score(y_test, y_pred)\n",
    "print(recall)"
   ]
  },
  {
   "cell_type": "code",
   "execution_count": 65,
   "metadata": {},
   "outputs": [
    {
     "data": {
      "text/plain": [
       "0    108\n",
       "1     74\n",
       "dtype: int64"
      ]
     },
     "execution_count": 65,
     "metadata": {},
     "output_type": "execute_result"
    }
   ],
   "source": [
    "pd.Series(y_test).value_counts()"
   ]
  },
  {
   "cell_type": "code",
   "execution_count": 66,
   "metadata": {},
   "outputs": [
    {
     "data": {
      "text/plain": [
       "1    93\n",
       "0    89\n",
       "dtype: int64"
      ]
     },
     "execution_count": 66,
     "metadata": {},
     "output_type": "execute_result"
    }
   ],
   "source": [
    "pd.Series(y_pred).value_counts()"
   ]
  },
  {
   "cell_type": "markdown",
   "metadata": {},
   "source": [
    "Discussion:  This SVM model fails to converge.  Even if we use the non-converged model, it predicts y=0 more often than it should.  It fails to label 1 as 1 and 0 as 0 about a third of the time.  It isn't a good model."
   ]
  },
  {
   "cell_type": "markdown",
   "metadata": {},
   "source": [
    "#### Logistic Regression"
   ]
  },
  {
   "cell_type": "code",
   "execution_count": 67,
   "metadata": {},
   "outputs": [
    {
     "name": "stdout",
     "output_type": "stream",
     "text": [
      "The list of [score, setting] is:\n",
      "[0.7, [0.0001, 'liblinear']]\n",
      "[0.7, [0.1, 'newton-cg']]\n",
      "[0.7, [0.1, 'lbfgs']]\n",
      "[0.69, [0.001, 'liblinear']]\n",
      "[0.69, [0.01, 'newton-cg']]\n",
      "[0.69, [0.01, 'lbfgs']]\n",
      "[0.69, [0.01, 'liblinear']]\n",
      "[0.69, [0.1, 'liblinear']]\n",
      "[0.69, [1, 'newton-cg']]\n",
      "[0.69, [1, 'lbfgs']]\n",
      "[0.69, [1, 'liblinear']]\n",
      "[0.69, [10, 'newton-cg']]\n",
      "[0.69, [10, 'lbfgs']]\n",
      "[0.69, [10, 'liblinear']]\n",
      "[0.69, [100, 'newton-cg']]\n",
      "[0.69, [100, 'lbfgs']]\n",
      "[0.69, [100, 'liblinear']]\n",
      "[0.69, [1000, 'newton-cg']]\n",
      "[0.69, [1000, 'lbfgs']]\n",
      "[0.69, [1000, 'liblinear']]\n",
      "[0.69, [10000, 'newton-cg']]\n",
      "[0.69, [10000, 'lbfgs']]\n",
      "[0.69, [10000, 'liblinear']]\n",
      "[0.59, [0.0001, 'newton-cg']]\n",
      "[0.59, [0.0001, 'lbfgs']]\n",
      "[0.59, [0.001, 'newton-cg']]\n",
      "[0.59, [0.001, 'lbfgs']]\n",
      "\n",
      "The best setting is:\n",
      "C: 0.0001\n",
      "solver: liblinear\n"
     ]
    }
   ],
   "source": [
    "# The list of value for hyperparameter C (penalty parameter)\n",
    "Cs = [0.0001, 0.001, 0.01, 0.1, 1, 10, 100, 1000, 10000]\n",
    "\n",
    "# The list of choices for hyperparameter solver\n",
    "#solvers = ['newton-cg', 'lbfgs', 'liblinear', 'sag', 'saga']\n",
    "# Note:  Sag and Saga are good optimizers for large data sets, but they performed badly on this small dataset because they could not converge.\n",
    "solvers = ['newton-cg', 'lbfgs', 'liblinear']\n",
    "\n",
    "# The list of [score, setting]\n",
    "score_settings = []\n",
    "\n",
    "# For each C\n",
    "for C in Cs:\n",
    "    # For each solver\n",
    "    for solver in solvers:\n",
    "        # Declare the classifier with hyperparameter C, solver, and random_state\n",
    "        clf2 = LogisticRegression(C=C, solver=solver, random_state=0)\n",
    "\n",
    "        # Fit the classifier\n",
    "        clf2.fit(X_train, y_train)\n",
    "\n",
    "        # Get the score (rounding to two decimal places)\n",
    "        score = round(clf2.score(X_test, y_test), 2)\n",
    "        \n",
    "        # Get the setting, which is a pair of (C, solver)\n",
    "        setting = [C, solver]\n",
    "\n",
    "        # Append [score, setting] to score_settings\n",
    "        score_settings.append([score, setting])\n",
    "        \n",
    "# Sort score_settings in descending order of score\n",
    "score_settings = sorted(score_settings, key=lambda x: x[0], reverse=True)\n",
    "\n",
    "# Print score_settings\n",
    "print('The list of [score, setting] is:')\n",
    "for score_setting in score_settings:\n",
    "    print(score_setting)\n",
    "print()\n",
    "\n",
    "# Print the best setting\n",
    "print('The best setting is:')\n",
    "print('C: ' + str(score_settings[0][1][0]))\n",
    "print('solver: ' + score_settings[0][1][1])"
   ]
  },
  {
   "cell_type": "code",
   "execution_count": 68,
   "metadata": {},
   "outputs": [
    {
     "data": {
      "text/plain": [
       "array([[81, 27],\n",
       "       [28, 46]], dtype=int64)"
      ]
     },
     "execution_count": 68,
     "metadata": {},
     "output_type": "execute_result"
    }
   ],
   "source": [
    "# Produce confusion matrix for highest ranked model\n",
    "clf2 = LogisticRegression(C=0.0001, solver='liblinear', random_state=0)\n",
    "clf2.fit(X_train, y_train)\n",
    "y_pred = clf2.predict(X_test)\n",
    "\n",
    "confusion_matrix(y_test, y_pred)"
   ]
  },
  {
   "cell_type": "code",
   "execution_count": 69,
   "metadata": {},
   "outputs": [
    {
     "name": "stdout",
     "output_type": "stream",
     "text": [
      "0.6301369863013698\n",
      "0.6216216216216216\n"
     ]
    }
   ],
   "source": [
    "# Precision - Does the model label positive as positive and negative as negative?\n",
    "precision = precision_score(y_test, y_pred)\n",
    "print(precision)\n",
    "\n",
    "# Recall - Does the model find all positive samples?\n",
    "recall = recall_score(y_test, y_pred)\n",
    "print(recall)"
   ]
  },
  {
   "cell_type": "code",
   "execution_count": 70,
   "metadata": {},
   "outputs": [
    {
     "data": {
      "text/plain": [
       "0    108\n",
       "1     74\n",
       "dtype: int64"
      ]
     },
     "execution_count": 70,
     "metadata": {},
     "output_type": "execute_result"
    }
   ],
   "source": [
    "pd.Series(y_test).value_counts()"
   ]
  },
  {
   "cell_type": "code",
   "execution_count": 71,
   "metadata": {},
   "outputs": [
    {
     "data": {
      "text/plain": [
       "0    109\n",
       "1     73\n",
       "dtype: int64"
      ]
     },
     "execution_count": 71,
     "metadata": {},
     "output_type": "execute_result"
    }
   ],
   "source": [
    "pd.Series(y_pred).value_counts()"
   ]
  },
  {
   "cell_type": "markdown",
   "metadata": {},
   "source": [
    "Discussion:  This logistic regression model predicts almost exactly the right number of y=0 and y=1, but it fails to correctly label 1 as 1 or 0 as 0 about one third of the time."
   ]
  },
  {
   "cell_type": "markdown",
   "metadata": {},
   "source": [
    "#### Multilayer Perceptron"
   ]
  },
  {
   "cell_type": "code",
   "execution_count": 72,
   "metadata": {},
   "outputs": [
    {
     "name": "stdout",
     "output_type": "stream",
     "text": [
      "The list of [score, setting] is:\n",
      "[0.73, [10, 'logistic']]\n",
      "[0.7, [100, 'logistic']]\n",
      "[0.69, [10, 'identity']]\n",
      "[0.69, [10, 'relu']]\n",
      "[0.69, [100, 'identity']]\n",
      "[0.69, [100, 'tanh']]\n",
      "[0.69, [200, 'identity']]\n",
      "[0.65, [200, 'tanh']]\n",
      "[0.65, [200, 'relu']]\n",
      "[0.61, [200, 'logistic']]\n",
      "[0.6, [100, 'relu']]\n",
      "[0.58, [10, 'tanh']]\n",
      "\n",
      "The best setting is:\n",
      "HL size: 10\n",
      "activation: logistic\n"
     ]
    }
   ],
   "source": [
    "# The list of sizes for hidden layers\n",
    "HLs = [10, 100, 200]\n",
    "\n",
    "# The list of choices for the activation\n",
    "activations = ['identity', 'logistic', 'tanh', 'relu']\n",
    "\n",
    "# The list of [score, setting]\n",
    "score_settings = []\n",
    "\n",
    "# For each size\n",
    "for size in HLs:\n",
    "    # For each activation\n",
    "    for activation in activations:\n",
    "        # Declare the classifier with hyperparameter hidden layer size, activation, random_state, and solver\n",
    "        # Per sklearn documentation, for a small dataset, lbfgs is a better solver than the default, which was failing to converge\n",
    "        clf3 = MLPClassifier(hidden_layer_sizes=size, activation=activation, random_state=0, solver='lbfgs')\n",
    "\n",
    "        # Fit the classifier\n",
    "        clf3.fit(X_train, y_train)\n",
    "\n",
    "        # Get the score (rounding to two decimal places)\n",
    "        score = round(clf3.score(X_test, y_test), 2)\n",
    "        \n",
    "        # Get the setting, which is a pair of (size, activation)\n",
    "        setting = [size, activation]\n",
    "\n",
    "        # Append [score, setting] to score_settings\n",
    "        score_settings.append([score, setting])\n",
    "        \n",
    "# Sort score_settings in descending order of score\n",
    "score_settings = sorted(score_settings, key=lambda x: x[0], reverse=True)\n",
    "\n",
    "# Print score_settings\n",
    "print('The list of [score, setting] is:')\n",
    "for score_setting in score_settings:\n",
    "    print(score_setting)\n",
    "print()\n",
    "\n",
    "# Print the best setting\n",
    "print('The best setting is:')\n",
    "print('HL size: ' + str(score_settings[0][1][0]))\n",
    "print('activation: ' + score_settings[0][1][1])"
   ]
  },
  {
   "cell_type": "code",
   "execution_count": 73,
   "metadata": {},
   "outputs": [
    {
     "data": {
      "text/plain": [
       "array([[83, 25],\n",
       "       [25, 49]], dtype=int64)"
      ]
     },
     "execution_count": 73,
     "metadata": {},
     "output_type": "execute_result"
    }
   ],
   "source": [
    "# Produce confusion matrix for highest ranked model\n",
    "clf3 = MLPClassifier(hidden_layer_sizes=10, activation='logistic', random_state=0, solver='lbfgs')\n",
    "clf3.fit(X_train, y_train)\n",
    "y_pred = clf3.predict(X_test)\n",
    "\n",
    "confusion_matrix(y_test, y_pred)"
   ]
  },
  {
   "cell_type": "code",
   "execution_count": 74,
   "metadata": {},
   "outputs": [
    {
     "name": "stdout",
     "output_type": "stream",
     "text": [
      "0.6621621621621622\n",
      "0.6621621621621622\n"
     ]
    }
   ],
   "source": [
    "# Precision - Does the model label positive as positive and negative as negative?\n",
    "precision = precision_score(y_test, y_pred)\n",
    "print(precision)\n",
    "\n",
    "# Recall - Does the model find all positive samples?\n",
    "recall = recall_score(y_test, y_pred)\n",
    "print(recall)"
   ]
  },
  {
   "cell_type": "code",
   "execution_count": 75,
   "metadata": {},
   "outputs": [
    {
     "data": {
      "text/plain": [
       "0    108\n",
       "1     74\n",
       "dtype: int64"
      ]
     },
     "execution_count": 75,
     "metadata": {},
     "output_type": "execute_result"
    }
   ],
   "source": [
    "pd.Series(y_test).value_counts()"
   ]
  },
  {
   "cell_type": "code",
   "execution_count": 76,
   "metadata": {},
   "outputs": [
    {
     "data": {
      "text/plain": [
       "0    108\n",
       "1     74\n",
       "dtype: int64"
      ]
     },
     "execution_count": 76,
     "metadata": {},
     "output_type": "execute_result"
    }
   ],
   "source": [
    "pd.Series(y_pred).value_counts()"
   ]
  },
  {
   "cell_type": "markdown",
   "metadata": {},
   "source": [
    "Discussion:  This multilayer perceptron model predicts exactly the right number of y=0 and y=1, but it fails to correctly label 1 as 1 or 0 as 0 about one third of the time."
   ]
  },
  {
   "cell_type": "markdown",
   "metadata": {},
   "source": [
    "#### Decision Tree"
   ]
  },
  {
   "cell_type": "code",
   "execution_count": 77,
   "metadata": {},
   "outputs": [
    {
     "name": "stdout",
     "output_type": "stream",
     "text": [
      "The list of [score, setting] is:\n",
      "[0.73, [5, 30]]\n",
      "[0.73, [10, 30]]\n",
      "[0.73, [20, 30]]\n",
      "[0.73, [30, 30]]\n",
      "[0.71, [5, 10]]\n",
      "[0.71, [10, 10]]\n",
      "[0.71, [20, 10]]\n",
      "[0.7, [5, 20]]\n",
      "[0.7, [10, 20]]\n",
      "[0.7, [20, 20]]\n",
      "[0.7, [30, 10]]\n",
      "[0.7, [30, 20]]\n",
      "[0.66, [20, 1]]\n",
      "[0.65, [10, 1]]\n",
      "[0.64, [30, 1]]\n",
      "[0.61, [5, 1]]\n",
      "\n",
      "The best setting is:\n",
      "split: 5\n",
      "leaf: 30\n"
     ]
    }
   ],
   "source": [
    "# The list of minimum samples split\n",
    "splits = [5, 10, 20, 30]\n",
    "\n",
    "# The list minimum samples leaves\n",
    "leaves = [1, 10, 20, 30]\n",
    "\n",
    "# The list of [score, setting]\n",
    "score_settings = []\n",
    "\n",
    "# For each split\n",
    "for split in splits:\n",
    "    # For each leaf\n",
    "    for leaf in leaves:\n",
    "        # Declare the classifier with minimum splits, minimum leaves, and random_state\n",
    "        clf4 = DecisionTreeClassifier(min_samples_split=split, min_samples_leaf=leaf, random_state=0)\n",
    "\n",
    "        # Fit the classifier\n",
    "        clf4.fit(X_train, y_train)\n",
    "\n",
    "        # Get the score (rounding to two decimal places)\n",
    "        score = round(clf4.score(X_test, y_test), 2)\n",
    "        \n",
    "        # Get the setting, which is a pair of (split, leaf)\n",
    "        setting = [split, leaf]\n",
    "\n",
    "        # Append [score, setting] to score_settings\n",
    "        score_settings.append([score, setting])\n",
    "        \n",
    "# Sort score_settings in descending order of score\n",
    "score_settings = sorted(score_settings, key=lambda x: x[0], reverse=True)\n",
    "\n",
    "# Print score_settings\n",
    "print('The list of [score, setting] is:')\n",
    "for score_setting in score_settings:\n",
    "    print(score_setting)\n",
    "print()\n",
    "\n",
    "# Print the best setting\n",
    "print('The best setting is:')\n",
    "print('split: ' + str(score_settings[0][1][0]))\n",
    "print('leaf: ' + str(score_settings[0][1][1]))"
   ]
  },
  {
   "cell_type": "code",
   "execution_count": 78,
   "metadata": {},
   "outputs": [
    {
     "data": {
      "text/plain": [
       "array([[81, 27],\n",
       "       [27, 47]], dtype=int64)"
      ]
     },
     "execution_count": 78,
     "metadata": {},
     "output_type": "execute_result"
    }
   ],
   "source": [
    "# Produce confusion matrix for highest ranked model\n",
    "#clf4 = DecisionTreeClassifier(min_samples_split=5, min_samples_leaf=30, random_state=0)\n",
    "clf4 = DecisionTreeClassifier(min_samples_split=5, min_samples_leaf=20, random_state=0)\n",
    "clf4.fit(X_train, y_train)\n",
    "y_pred = clf4.predict(X_test)\n",
    "\n",
    "confusion_matrix(y_test, y_pred)"
   ]
  },
  {
   "cell_type": "code",
   "execution_count": 79,
   "metadata": {},
   "outputs": [
    {
     "name": "stdout",
     "output_type": "stream",
     "text": [
      "0.6351351351351351\n",
      "0.6351351351351351\n"
     ]
    }
   ],
   "source": [
    "# Precision - Does the model label positive as positive and negative as negative?\n",
    "precision = precision_score(y_test, y_pred)\n",
    "print(precision)\n",
    "\n",
    "# Recall - Does the model find all positive samples?\n",
    "recall = recall_score(y_test, y_pred)\n",
    "print(recall)"
   ]
  },
  {
   "cell_type": "code",
   "execution_count": 80,
   "metadata": {},
   "outputs": [
    {
     "data": {
      "text/plain": [
       "0    108\n",
       "1     74\n",
       "dtype: int64"
      ]
     },
     "execution_count": 80,
     "metadata": {},
     "output_type": "execute_result"
    }
   ],
   "source": [
    "pd.Series(y_test).value_counts()"
   ]
  },
  {
   "cell_type": "code",
   "execution_count": 81,
   "metadata": {},
   "outputs": [
    {
     "data": {
      "text/plain": [
       "0    108\n",
       "1     74\n",
       "dtype: int64"
      ]
     },
     "execution_count": 81,
     "metadata": {},
     "output_type": "execute_result"
    }
   ],
   "source": [
    "pd.Series(y_pred).value_counts()"
   ]
  },
  {
   "cell_type": "markdown",
   "metadata": {},
   "source": [
    "Discussion:  This decision tree model predicts close to the right number of y=0 and y=1, tending to classify samples as y=0, but it fails to correctly label 1 as 1 or 0 as 0 about one third of the time."
   ]
  },
  {
   "cell_type": "markdown",
   "metadata": {},
   "source": [
    "#### Random Forest"
   ]
  },
  {
   "cell_type": "code",
   "execution_count": 82,
   "metadata": {},
   "outputs": [
    {
     "name": "stdout",
     "output_type": "stream",
     "text": [
      "The list of [score, setting] is:\n",
      "[0.76, [10, 2, 10]]\n",
      "[0.76, [10, 10, 10]]\n",
      "[0.76, [10, 20, 10]]\n",
      "[0.75, [10, 20, 1]]\n",
      "[0.75, [20, 20, 1]]\n",
      "[0.75, [20, 30, 10]]\n",
      "[0.74, [10, 2, 20]]\n",
      "[0.74, [10, 10, 20]]\n",
      "[0.74, [10, 20, 20]]\n",
      "[0.74, [10, 30, 10]]\n",
      "[0.74, [10, 30, 20]]\n",
      "[0.74, [20, 2, 10]]\n",
      "[0.74, [20, 2, 30]]\n",
      "[0.74, [20, 10, 10]]\n",
      "[0.74, [20, 10, 30]]\n",
      "[0.74, [20, 20, 10]]\n",
      "[0.74, [20, 20, 30]]\n",
      "[0.74, [20, 30, 1]]\n",
      "[0.74, [20, 30, 30]]\n",
      "[0.74, [30, 2, 10]]\n",
      "[0.74, [30, 2, 30]]\n",
      "[0.74, [30, 10, 1]]\n",
      "[0.74, [30, 10, 10]]\n",
      "[0.74, [30, 10, 30]]\n",
      "[0.74, [30, 20, 1]]\n",
      "[0.74, [30, 20, 10]]\n",
      "[0.74, [30, 20, 30]]\n",
      "[0.74, [30, 30, 10]]\n",
      "[0.74, [30, 30, 30]]\n",
      "[0.73, [10, 2, 30]]\n",
      "[0.73, [10, 10, 30]]\n",
      "[0.73, [10, 20, 30]]\n",
      "[0.73, [10, 30, 1]]\n",
      "[0.73, [10, 30, 30]]\n",
      "[0.73, [20, 2, 20]]\n",
      "[0.73, [20, 10, 1]]\n",
      "[0.73, [20, 10, 20]]\n",
      "[0.73, [20, 20, 20]]\n",
      "[0.73, [20, 30, 20]]\n",
      "[0.73, [30, 30, 1]]\n",
      "[0.72, [2, 30, 10]]\n",
      "[0.72, [10, 10, 1]]\n",
      "[0.72, [30, 2, 20]]\n",
      "[0.72, [30, 10, 20]]\n",
      "[0.72, [30, 20, 20]]\n",
      "[0.72, [30, 30, 20]]\n",
      "[0.71, [2, 2, 20]]\n",
      "[0.71, [2, 10, 20]]\n",
      "[0.71, [2, 20, 20]]\n",
      "[0.71, [2, 30, 20]]\n",
      "[0.7, [2, 2, 10]]\n",
      "[0.7, [2, 10, 10]]\n",
      "[0.7, [2, 20, 1]]\n",
      "[0.7, [2, 20, 10]]\n",
      "[0.7, [10, 2, 1]]\n",
      "[0.7, [20, 2, 1]]\n",
      "[0.7, [30, 2, 1]]\n",
      "[0.68, [2, 2, 30]]\n",
      "[0.68, [2, 10, 30]]\n",
      "[0.68, [2, 20, 30]]\n",
      "[0.68, [2, 30, 30]]\n",
      "[0.67, [2, 2, 1]]\n",
      "[0.67, [2, 30, 1]]\n",
      "[0.65, [2, 10, 1]]\n",
      "\n",
      "The best setting is:\n",
      "trees: 10\n",
      "split: 2\n",
      "leaf: 10\n"
     ]
    }
   ],
   "source": [
    "# The list of number of trees\n",
    "trees = [2, 10, 20, 30]\n",
    "\n",
    "# The list of minimum samples split\n",
    "splits = [2, 10, 20, 30]\n",
    "\n",
    "# The list minimum samples leaves\n",
    "leaves = [1, 10, 20, 30]\n",
    "\n",
    "# The list of [score, setting]\n",
    "score_settings = []\n",
    "\n",
    "# For for each tree\n",
    "for tree in trees:\n",
    "    # For each split\n",
    "    for split in splits:\n",
    "        # For each leaf\n",
    "        for leaf in leaves:\n",
    "            # Declare the classifier with number of trees, minimum splits, minimum leaves, and random_state\n",
    "            clf5 = RandomForestClassifier(n_estimators=tree, min_samples_split=split, min_samples_leaf=leaf, random_state=0)\n",
    "\n",
    "            # Fit the classifier\n",
    "            clf5.fit(X_train, y_train)\n",
    "\n",
    "            # Get the score (rounding to two decimal places)\n",
    "            score = round(clf5.score(X_test, y_test), 2)\n",
    "        \n",
    "            # Get the setting, which is (tree, split, leaf)\n",
    "            setting = [tree, split, leaf]\n",
    "\n",
    "            # Append [score, setting] to score_settings\n",
    "            score_settings.append([score, setting])\n",
    "        \n",
    "# Sort score_settings in descending order of score\n",
    "score_settings = sorted(score_settings, key=lambda x: x[0], reverse=True)\n",
    "\n",
    "# Print score_settings\n",
    "print('The list of [score, setting] is:')\n",
    "for score_setting in score_settings:\n",
    "    print(score_setting)\n",
    "print()\n",
    "\n",
    "# Print the best setting\n",
    "print('The best setting is:')\n",
    "print('trees: ' + str(score_settings[0][1][0]))\n",
    "print('split: ' + str(score_settings[0][1][1]))\n",
    "print('leaf: ' + str(score_settings[0][1][2]))"
   ]
  },
  {
   "cell_type": "code",
   "execution_count": 83,
   "metadata": {},
   "outputs": [
    {
     "data": {
      "text/plain": [
       "array([[87, 21],\n",
       "       [23, 51]], dtype=int64)"
      ]
     },
     "execution_count": 83,
     "metadata": {},
     "output_type": "execute_result"
    }
   ],
   "source": [
    "# Produce confusion matrix for highest ranked model\n",
    "clf5 = RandomForestClassifier(n_estimators=10, min_samples_split=2, min_samples_leaf=10, random_state=0)\n",
    "clf5.fit(X_train, y_train)\n",
    "y_pred = clf5.predict(X_test)\n",
    "\n",
    "confusion_matrix(y_test, y_pred)"
   ]
  },
  {
   "cell_type": "code",
   "execution_count": 84,
   "metadata": {},
   "outputs": [
    {
     "name": "stdout",
     "output_type": "stream",
     "text": [
      "0.7083333333333334\n",
      "0.6891891891891891\n"
     ]
    }
   ],
   "source": [
    "# Precision - Does the model label positive as positive and negative as negative?\n",
    "precision = precision_score(y_test, y_pred)\n",
    "print(precision)\n",
    "\n",
    "# Recall - Does the model find all positive samples?\n",
    "recall = recall_score(y_test, y_pred)\n",
    "print(recall)"
   ]
  },
  {
   "cell_type": "code",
   "execution_count": 85,
   "metadata": {},
   "outputs": [
    {
     "data": {
      "text/plain": [
       "0    108\n",
       "1     74\n",
       "dtype: int64"
      ]
     },
     "execution_count": 85,
     "metadata": {},
     "output_type": "execute_result"
    }
   ],
   "source": [
    "pd.Series(y_test).value_counts()"
   ]
  },
  {
   "cell_type": "code",
   "execution_count": 86,
   "metadata": {},
   "outputs": [
    {
     "data": {
      "text/plain": [
       "0    110\n",
       "1     72\n",
       "dtype: int64"
      ]
     },
     "execution_count": 86,
     "metadata": {},
     "output_type": "execute_result"
    }
   ],
   "source": [
    "pd.Series(y_pred).value_counts()"
   ]
  },
  {
   "cell_type": "markdown",
   "metadata": {},
   "source": [
    "Discussion:  This random forest model predicts close to the right number of y=0 and y=1, but it fails to correctly label 1 as 1 or 0 as 0 about 30% of the time.  It is the best model so far, but not great."
   ]
  },
  {
   "cell_type": "markdown",
   "metadata": {},
   "source": [
    "### Pipeline and GridSearch\n",
    "Used for hyperparameter tuning and model selection.  \n",
    "Code modified from Proffesor Yuxiao Huang"
   ]
  },
  {
   "cell_type": "code",
   "execution_count": 87,
   "metadata": {},
   "outputs": [],
   "source": [
    "# Dictionary of classifiers\n",
    "clfs = {'lr': LogisticRegression(random_state=0),\n",
    "        'mlp': MLPClassifier(random_state=0),\n",
    "        'dt': DecisionTreeClassifier(random_state=0),\n",
    "        'rf': RandomForestClassifier(random_state=0)}"
   ]
  },
  {
   "cell_type": "code",
   "execution_count": 88,
   "metadata": {},
   "outputs": [],
   "source": [
    "# Dictionaory of pipeline\n",
    "pipe_clfs = {}\n",
    "\n",
    "for name, clf in clfs.items():\n",
    "    pipe_clfs[name] = Pipeline([('StandardScaler', StandardScaler()), ('clf', clf)])"
   ]
  },
  {
   "cell_type": "code",
   "execution_count": 89,
   "metadata": {},
   "outputs": [],
   "source": [
    "# Dictionary of parameter grids\n",
    "param_grids = {}"
   ]
  },
  {
   "cell_type": "code",
   "execution_count": 90,
   "metadata": {},
   "outputs": [],
   "source": [
    "# Parameter grid for logistic regression\n",
    "C_range = [10 ** i for i in range(-4, 5)]\n",
    "\n",
    "param_grid = [{'clf__multi_class': ['ovr'], \n",
    "               'clf__solver': ['newton-cg', 'lbfgs', 'liblinear'],\n",
    "               'clf__C': C_range},\n",
    "              {'clf__multi_class': ['multinomial'],\n",
    "               'clf__solver': ['newton-cg', 'lbfgs'],\n",
    "               'clf__C': C_range}]\n",
    "\n",
    "param_grids['lr'] = param_grid"
   ]
  },
  {
   "cell_type": "code",
   "execution_count": 91,
   "metadata": {},
   "outputs": [],
   "source": [
    "# Parameter grid for multilayer perceptron\n",
    "param_grid = [{'clf__hidden_layer_sizes': [10, 100, 200],\n",
    "               'clf__activation': ['identity', 'logistic', 'tanh', 'relu'],\n",
    "               'clf__solver': ['lbfgs']}]\n",
    "\n",
    "param_grids['mlp'] = param_grid"
   ]
  },
  {
   "cell_type": "code",
   "execution_count": 92,
   "metadata": {},
   "outputs": [],
   "source": [
    "# Parameter grid for decision tree\n",
    "param_grid = [{'clf__min_samples_split': [5, 10, 20, 30],\n",
    "               'clf__min_samples_leaf': [1, 10, 20, 30]}]\n",
    "\n",
    "param_grids['dt'] = param_grid"
   ]
  },
  {
   "cell_type": "code",
   "execution_count": 93,
   "metadata": {},
   "outputs": [],
   "source": [
    "# Parameter grid for random forest\n",
    "param_grid = [{'clf__n_estimators': [2, 10, 20, 30],\n",
    "               'clf__min_samples_split': [2, 10, 20, 30],\n",
    "               'clf__min_samples_leaf': [1, 10, 20, 30]}]\n",
    "\n",
    "param_grids['rf'] = param_grid"
   ]
  },
  {
   "cell_type": "code",
   "execution_count": 94,
   "metadata": {},
   "outputs": [],
   "source": [
    "# Parameter grid for support vector machine\n",
    "param_grid = [{'clf__C': [0.001, 0.01, 0.1, 1, 10],\n",
    "               'clf__gamma': [0.001, 0.01, 0.1, 1, 10],\n",
    "               'clf__kernel': ['linear', 'poly', 'rbf', 'sigmoid'],\n",
    "               'clf__max_iter': [100]}]\n",
    "\n",
    "param_grids['svc'] = param_grid"
   ]
  },
  {
   "cell_type": "code",
   "execution_count": 95,
   "metadata": {},
   "outputs": [],
   "source": [
    "# Hyperparameter tuning\n",
    "\n",
    "# The list of [best_score_, best_params_, best_estimator_]\n",
    "best_score_param_estimators = []\n",
    "\n",
    "# For each classifier\n",
    "for name in pipe_clfs.keys():\n",
    "    # GridSearchCV\n",
    "    gs = GridSearchCV(estimator=pipe_clfs[name],\n",
    "                      param_grid=param_grids[name],\n",
    "                      scoring='accuracy',\n",
    "                      n_jobs=1,\n",
    "                      cv=StratifiedKFold(n_splits=5,\n",
    "                                         shuffle=True,\n",
    "                                         random_state=0))\n",
    "    # Fit the pipeline\n",
    "    gs = gs.fit(X_train, y_train)\n",
    "    \n",
    "    # Update best_score_param_estimators\n",
    "    best_score_param_estimators.append([gs.best_score_, gs.best_params_, gs.best_estimator_])"
   ]
  },
  {
   "cell_type": "code",
   "execution_count": 96,
   "metadata": {},
   "outputs": [
    {
     "name": "stdout",
     "output_type": "stream",
     "text": [
      "[0.735224586288416, {'clf__min_samples_leaf': 10, 'clf__min_samples_split': 2, 'clf__n_estimators': 2}, <class 'sklearn.ensemble.forest.RandomForestClassifier'>]\n",
      "\n",
      "[0.7210401891252955, {'clf__C': 0.01, 'clf__multi_class': 'ovr', 'clf__solver': 'liblinear'}, <class 'sklearn.linear_model.logistic.LogisticRegression'>]\n",
      "\n",
      "[0.7139479905437353, {'clf__min_samples_leaf': 1, 'clf__min_samples_split': 30}, <class 'sklearn.tree.tree.DecisionTreeClassifier'>]\n",
      "\n",
      "[0.7115839243498818, {'clf__activation': 'identity', 'clf__hidden_layer_sizes': 10, 'clf__solver': 'lbfgs'}, <class 'sklearn.neural_network.multilayer_perceptron.MLPClassifier'>]\n",
      "\n"
     ]
    }
   ],
   "source": [
    "# Sort best_score_param_estimators in descending order of the best_score_\n",
    "best_score_param_estimators = sorted(best_score_param_estimators, key=lambda x : x[0], reverse=True)\n",
    "\n",
    "# For each [best_score_, best_params_, best_estimator_]\n",
    "for best_score_param_estimator in best_score_param_estimators:\n",
    "    # Print out [best_score_, best_params_, best_estimator_], where best_estimator_ is a pipeline\n",
    "    # Since we only print out the type of classifier of the pipeline\n",
    "    print([best_score_param_estimator[0], best_score_param_estimator[1], type(best_score_param_estimator[2].named_steps['clf'])], end='\\n\\n')"
   ]
  },
  {
   "cell_type": "code",
   "execution_count": 97,
   "metadata": {},
   "outputs": [
    {
     "data": {
      "text/plain": [
       "array([[82, 26],\n",
       "       [28, 46]], dtype=int64)"
      ]
     },
     "execution_count": 97,
     "metadata": {},
     "output_type": "execute_result"
    }
   ],
   "source": [
    "y_pred = best_score_param_estimators[0][2].predict(X_test)\n",
    "\n",
    "confusion_matrix(y_test, y_pred)"
   ]
  },
  {
   "cell_type": "code",
   "execution_count": 98,
   "metadata": {},
   "outputs": [
    {
     "data": {
      "text/plain": [
       "0.6388888888888888"
      ]
     },
     "execution_count": 98,
     "metadata": {},
     "output_type": "execute_result"
    }
   ],
   "source": [
    "# Precision - Does the model label positive as positive and negative as negative?\n",
    "precision = precision_score(y_test, y_pred)\n",
    "precision"
   ]
  },
  {
   "cell_type": "code",
   "execution_count": 99,
   "metadata": {},
   "outputs": [
    {
     "data": {
      "text/plain": [
       "0.6216216216216216"
      ]
     },
     "execution_count": 99,
     "metadata": {},
     "output_type": "execute_result"
    }
   ],
   "source": [
    "# Recall - Does the model find all positive samples?\n",
    "recall = recall_score(y_test, y_pred)\n",
    "recall"
   ]
  },
  {
   "cell_type": "markdown",
   "metadata": {},
   "source": [
    "### Ideas for Model Improvement"
   ]
  },
  {
   "cell_type": "markdown",
   "metadata": {},
   "source": [
    "Discussion:  As above when Random Forest was run separately, the precision and recall are around 2/3, and accuracy is about 74%.  More worrisome, the SVM model did not work at all.  Why might these models not work well or at all?  One reason may be that the data are skewed.  Normalizing the data will not correct skewed data.  The plots below show that some of the data are skewed.  We might need to transform the data to get more accurate models, but those techniques are beyond the scope of this project."
   ]
  },
  {
   "cell_type": "markdown",
   "metadata": {},
   "source": [
    "#### Plot the Variables"
   ]
  },
  {
   "cell_type": "code",
   "execution_count": 100,
   "metadata": {},
   "outputs": [],
   "source": [
    "target_0 = dfC.loc[dfC['Num']==0]\n",
    "target_1 = dfC.loc[dfC['Num']==1]"
   ]
  },
  {
   "cell_type": "code",
   "execution_count": 101,
   "metadata": {},
   "outputs": [
    {
     "data": {
      "image/png": "[encoded data removed]",
      "text/plain": [
       "<Figure size 432x288 with 1 Axes>"
      ]
     },
     "metadata": {
      "needs_background": "light"
     },
     "output_type": "display_data"
    }
   ],
   "source": [
    "sns.distplot(target_0[['Age']], hist=False, rug=True, label='Num is 0')\n",
    "sns.distplot(target_1[['Age']], hist=False, rug=True, label='Num is 1')\n",
    "\n",
    "plt.title('Age')\n",
    "plt.legend()\n",
    "plt.show()"
   ]
  },
  {
   "cell_type": "code",
   "execution_count": 102,
   "metadata": {},
   "outputs": [
    {
     "data": {
      "image/png": "[encoded data removed]",
      "text/plain": [
       "<Figure size 432x288 with 1 Axes>"
      ]
     },
     "metadata": {
      "needs_background": "light"
     },
     "output_type": "display_data"
    }
   ],
   "source": [
    "sns.distplot(target_0[['Male']], hist=False, rug=True, label='Num is 0')\n",
    "sns.distplot(target_1[['Male']], hist=False, rug=True, label='Num is 1')\n",
    "\n",
    "plt.title('Male')\n",
    "plt.legend()\n",
    "plt.show()"
   ]
  },
  {
   "cell_type": "code",
   "execution_count": 103,
   "metadata": {},
   "outputs": [
    {
     "data": {
      "image/png": "[encoded data removed]",
      "text/plain": [
       "<Figure size 432x288 with 1 Axes>"
      ]
     },
     "metadata": {
      "needs_background": "light"
     },
     "output_type": "display_data"
    }
   ],
   "source": [
    "sns.distplot(target_0[['BPRest']], hist=False, rug=True, label='Num is 0')\n",
    "sns.distplot(target_1[['BPRest']], hist=False, rug=True, label='Num is 1')\n",
    "\n",
    "plt.title('BPRest')\n",
    "plt.legend()\n",
    "plt.show()"
   ]
  },
  {
   "cell_type": "code",
   "execution_count": 104,
   "metadata": {},
   "outputs": [
    {
     "data": {
      "image/png": "[encoded data removed]",
      "text/plain": [
       "<Figure size 432x288 with 1 Axes>"
      ]
     },
     "metadata": {
      "needs_background": "light"
     },
     "output_type": "display_data"
    }
   ],
   "source": [
    "sns.distplot(target_0[['Chol']], hist=False, rug=True, label='Num is 0')\n",
    "sns.distplot(target_1[['Chol']], hist=False, rug=True, label='Num is 1')\n",
    "\n",
    "plt.title('Chol')\n",
    "plt.legend()\n",
    "plt.show()"
   ]
  },
  {
   "cell_type": "code",
   "execution_count": 105,
   "metadata": {},
   "outputs": [
    {
     "data": {
      "image/png": "[encoded data removed]",
      "text/plain": [
       "<Figure size 432x288 with 1 Axes>"
      ]
     },
     "metadata": {
      "needs_background": "light"
     },
     "output_type": "display_data"
    }
   ],
   "source": [
    "sns.distplot(target_0[['Diabetes']], hist=False, rug=True, label='Num is 0')\n",
    "sns.distplot(target_1[['Diabetes']], hist=False, rug=True, label='Num is 1')\n",
    "\n",
    "plt.title('Diabetes')\n",
    "plt.legend()\n",
    "plt.show()"
   ]
  },
  {
   "cell_type": "code",
   "execution_count": 106,
   "metadata": {},
   "outputs": [
    {
     "data": {
      "image/png": "[encoded data removed]",
      "text/plain": [
       "<Figure size 432x288 with 1 Axes>"
      ]
     },
     "metadata": {
      "needs_background": "light"
     },
     "output_type": "display_data"
    }
   ],
   "source": [
    "sns.distplot(target_0[['Smoker']], hist=False, rug=True, label='Num is 0')\n",
    "sns.distplot(target_1[['Smoker']], hist=False, rug=True, label='Num is 1')\n",
    "\n",
    "plt.title('Smoker')\n",
    "plt.legend()\n",
    "plt.show()"
   ]
  },
  {
   "cell_type": "code",
   "execution_count": 107,
   "metadata": {},
   "outputs": [
    {
     "data": {
      "image/png": "[encoded data removed]",
      "text/plain": [
       "<Figure size 432x288 with 1 Axes>"
      ]
     },
     "metadata": {
      "needs_background": "light"
     },
     "output_type": "display_data"
    }
   ],
   "source": [
    "sns.distplot(target_0[['ECG_Abnormal']], hist=False, rug=True, label='Num is 0')\n",
    "sns.distplot(target_1[['ECG_Abnormal']], hist=False, rug=True, label='Num is 1')\n",
    "\n",
    "plt.title('ECG_Abnormal')\n",
    "plt.legend()\n",
    "plt.show()"
   ]
  }
 ],
 "metadata": {
  "kernelspec": {
   "display_name": "Python 3",
   "language": "python",
   "name": "python3"
  },
  "language_info": {
   "codemirror_mode": {
    "name": "ipython",
    "version": 3
   },
   "file_extension": ".py",
   "mimetype": "text/x-python",
   "name": "python",
   "nbconvert_exporter": "python",
   "pygments_lexer": "ipython3",
   "version": "3.7.3"
  }
 },
 "nbformat": 4,
 "nbformat_minor": 2
}
